{
  "nbformat": 4,
  "nbformat_minor": 0,
  "metadata": {
    "colab": {
      "provenance": [],
      "toc_visible": true,
      "include_colab_link": true
    },
    "kernelspec": {
      "name": "python3",
      "display_name": "Python 3"
    },
    "language_info": {
      "name": "python"
    }
  },
  "cells": [
    {
      "cell_type": "markdown",
      "metadata": {
        "id": "view-in-github",
        "colab_type": "text"
      },
      "source": [
        "<a href=\"https://colab.research.google.com/github/gongliangz/AppliedNLPMaterial/blob/master/Introduction_to_Python.ipynb\" target=\"_parent\"><img src=\"https://colab.research.google.com/assets/colab-badge.svg\" alt=\"Open In Colab\"/></a>"
      ]
    },
    {
      "cell_type": "markdown",
      "source": [
        "*Content Copyright by Gongliang Zhang*  "
      ],
      "metadata": {
        "id": "S6LfvlajBmoO"
      }
    },
    {
      "cell_type": "markdown",
      "source": [
        "# Python obejct and data structure"
      ],
      "metadata": {
        "id": "N0yzZdNMAomP"
      }
    },
    {
      "cell_type": "markdown",
      "source": [
        "\n",
        "**Python Documentation contents **   \n",
        "https://docs.python.org/3/contents.html#python-documentation-contents   \n",
        "**Common data types include:**\n",
        "* *Number: int* (for integer)\n",
        "* *Number: float*\n",
        "* *str* (for string)\n",
        "* *list*\n",
        "* *tuple*\n",
        "* *dictionary*\n",
        "* *set*\n",
        "* *boolean* (for Boolean True/False)  \n",
        "\n",
        "Use type(object) to find object type"
      ],
      "metadata": {
        "id": "57yiNGxYAleo"
      }
    },
    {
      "cell_type": "markdown",
      "source": [
        "## Number (arithmetic)"
      ],
      "metadata": {
        "id": "bJ6BjM_uDLeL"
      }
    },
    {
      "cell_type": "markdown",
      "source": [
        "[math — Mathematical functions](https://docs.python.org/3/library/math.html)"
      ],
      "metadata": {
        "id": "vioXKOCSLMkE"
      }
    },
    {
      "cell_type": "code",
      "execution_count": null,
      "metadata": {
        "id": "TpWkL5UZbmrb",
        "colab": {
          "base_uri": "https://localhost:8080/"
        },
        "outputId": "c3cbad5b-cb68-4920-bb20-765d8f2a97c1"
      },
      "outputs": [
        {
          "output_type": "execute_result",
          "data": {
            "text/plain": [
              "345680"
            ]
          },
          "metadata": {},
          "execution_count": 56
        }
      ],
      "source": [
        "# We mainly focus on integers and floating numbers\n",
        "# Addition\n",
        "2+345678"
      ]
    },
    {
      "cell_type": "code",
      "source": [
        "# Subtraction\n",
        "45678790-2"
      ],
      "metadata": {
        "colab": {
          "base_uri": "https://localhost:8080/"
        },
        "id": "dPT3IE7hEFP_",
        "outputId": "0d7b70fd-2acf-4599-836e-510ed8ab51da"
      },
      "execution_count": null,
      "outputs": [
        {
          "output_type": "execute_result",
          "data": {
            "text/plain": [
              "45678788"
            ]
          },
          "metadata": {},
          "execution_count": 57
        }
      ]
    },
    {
      "cell_type": "code",
      "source": [
        "# Multiplication\n",
        "2*345456789"
      ],
      "metadata": {
        "colab": {
          "base_uri": "https://localhost:8080/"
        },
        "id": "pS1hRXvvEDkG",
        "outputId": "093fda01-33b9-4210-ce5a-10bfa0b3d513"
      },
      "execution_count": null,
      "outputs": [
        {
          "output_type": "execute_result",
          "data": {
            "text/plain": [
              "690913578"
            ]
          },
          "metadata": {},
          "execution_count": 58
        }
      ]
    },
    {
      "cell_type": "code",
      "source": [
        "# Division\n",
        "346890/2"
      ],
      "metadata": {
        "colab": {
          "base_uri": "https://localhost:8080/"
        },
        "id": "6t3_4H2nEU_v",
        "outputId": "ad7ab4cf-f29b-4114-f9dc-8782740a953f"
      },
      "execution_count": null,
      "outputs": [
        {
          "output_type": "execute_result",
          "data": {
            "text/plain": [
              "173445.0"
            ]
          },
          "metadata": {},
          "execution_count": 59
        }
      ]
    },
    {
      "cell_type": "code",
      "source": [
        "# Floor Division: the // operator (two forward slashes) truncates the decimal without rounding, and returns an integer result.\n",
        "22//5"
      ],
      "metadata": {
        "colab": {
          "base_uri": "https://localhost:8080/"
        },
        "id": "KOIK13HEEf-Y",
        "outputId": "6dc83f3b-09c8-4137-d4f8-5dbba305eabc"
      },
      "execution_count": null,
      "outputs": [
        {
          "output_type": "execute_result",
          "data": {
            "text/plain": [
              "4"
            ]
          },
          "metadata": {},
          "execution_count": 60
        }
      ]
    },
    {
      "cell_type": "code",
      "source": [
        "# Modulo: the % operator returns the remainder after division.\n",
        "9%5"
      ],
      "metadata": {
        "colab": {
          "base_uri": "https://localhost:8080/"
        },
        "id": "R-5bmrP7E0Up",
        "outputId": "ab86b3de-b59d-4a7e-be06-b64574ed6e1a"
      },
      "execution_count": null,
      "outputs": [
        {
          "output_type": "execute_result",
          "data": {
            "text/plain": [
              "4"
            ]
          },
          "metadata": {},
          "execution_count": 61
        }
      ]
    },
    {
      "cell_type": "code",
      "source": [
        "# Powers\n",
        "4**4"
      ],
      "metadata": {
        "colab": {
          "base_uri": "https://localhost:8080/"
        },
        "id": "RObR1TvSFCjq",
        "outputId": "c2014257-aaf6-4970-9e0b-2dd2b82c8612"
      },
      "execution_count": null,
      "outputs": [
        {
          "output_type": "execute_result",
          "data": {
            "text/plain": [
              "256"
            ]
          },
          "metadata": {},
          "execution_count": 62
        }
      ]
    },
    {
      "cell_type": "code",
      "source": [
        "# roots\n",
        "9**0.25"
      ],
      "metadata": {
        "colab": {
          "base_uri": "https://localhost:8080/"
        },
        "id": "5UOjvMBqFKvC",
        "outputId": "2bf0d908-6f9c-4613-b9f0-e26ac796f315"
      },
      "execution_count": null,
      "outputs": [
        {
          "output_type": "execute_result",
          "data": {
            "text/plain": [
              "1.7320508075688772"
            ]
          },
          "metadata": {},
          "execution_count": 63
        }
      ]
    },
    {
      "cell_type": "code",
      "source": [
        "# Order of Operations\n",
        "5 + 1 * 1 + 3"
      ],
      "metadata": {
        "colab": {
          "base_uri": "https://localhost:8080/"
        },
        "id": "JgkcCvWNFdIC",
        "outputId": "720121f0-8ab5-46b3-f3e7-a16dcdca7804"
      },
      "execution_count": null,
      "outputs": [
        {
          "output_type": "execute_result",
          "data": {
            "text/plain": [
              "9"
            ]
          },
          "metadata": {},
          "execution_count": 64
        }
      ]
    },
    {
      "cell_type": "code",
      "source": [
        "# Parentheses to specify orders\n",
        "(5+1) * (1+3)"
      ],
      "metadata": {
        "colab": {
          "base_uri": "https://localhost:8080/"
        },
        "id": "6PS4KpI_FjLb",
        "outputId": "d598411a-aef4-4a4d-9b5e-fb381ebd9830"
      },
      "execution_count": null,
      "outputs": [
        {
          "output_type": "execute_result",
          "data": {
            "text/plain": [
              "24"
            ]
          },
          "metadata": {},
          "execution_count": 65
        }
      ]
    },
    {
      "cell_type": "code",
      "source": [
        "# maximum and minimul\n",
        "max(1, 5, 7)\n",
        "min(1, 5, 7)"
      ],
      "metadata": {
        "colab": {
          "base_uri": "https://localhost:8080/"
        },
        "id": "0Ks4k8bybKxJ",
        "outputId": "00986c35-1646-455f-c438-1b036f871c94"
      },
      "execution_count": null,
      "outputs": [
        {
          "output_type": "execute_result",
          "data": {
            "text/plain": [
              "1"
            ]
          },
          "metadata": {},
          "execution_count": 34
        }
      ]
    },
    {
      "cell_type": "code",
      "source": [
        "# complex() returns a complex number with value real + image*j\n",
        "# Create 1+3j\n",
        "complex(1,3)"
      ],
      "metadata": {
        "colab": {
          "base_uri": "https://localhost:8080/"
        },
        "id": "W2h5a7-c9Ox8",
        "outputId": "6ef0ed4e-1455-4f6a-cbb3-94edff1f3853"
      },
      "execution_count": null,
      "outputs": [
        {
          "output_type": "execute_result",
          "data": {
            "text/plain": [
              "(1+3j)"
            ]
          },
          "metadata": {},
          "execution_count": 43
        }
      ]
    },
    {
      "cell_type": "code",
      "source": [
        "# Advanced\n",
        "hex(1234) #Convert the number into a hexadecimal format; https://en.wikipedia.org/wiki/Hexadecimal\n",
        "bin(1234) # Convert the number into a binary format\n",
        "pow(2,3) # Two arguments, equivalent to x^y\n",
        "pow(2,3,4) # Three arguments, equivalent to (x^y)%z\n",
        "abs(-3.1415) # Returns the absolute value of a number\n",
        "round(3.1415,2) # Return a given precision in decimal digits (0 by default). Does not convert the integer to the float\n",
        "round(314.15,-2)"
      ],
      "metadata": {
        "colab": {
          "base_uri": "https://localhost:8080/"
        },
        "id": "zinWo99NIRGO",
        "outputId": "42c62f87-6e18-4967-b572-78a2c369ca43"
      },
      "execution_count": 6,
      "outputs": [
        {
          "output_type": "execute_result",
          "data": {
            "text/plain": [
              "300.0"
            ]
          },
          "metadata": {},
          "execution_count": 6
        }
      ]
    },
    {
      "cell_type": "markdown",
      "source": [
        "## Variable (object)"
      ],
      "metadata": {
        "id": "_EqJar16F0Wd"
      }
    },
    {
      "cell_type": "markdown",
      "source": [
        "In Python, variable names must follow these rules and conventions:  \n",
        "Rules (Enforced by Python)   \n",
        "1. Must start with a letter (a-z, A-Z) or an underscore (_); Can not start with a number\n",
        "2. Can only contain letters, numbers, and underscores (a-z, A-Z, 0-9, _); Can not contain space,:'\",<>/?|\\!@#%^&*~-+, use _ instead\n",
        "3. Cannot be a Python keyword (e.g., if, else, while, def, class, etc.), like list or str\n",
        "4. Case-sensitive\n",
        "\n",
        "Conventions (Best Practices)  \n",
        "1. Use snake_case for variable names (recommended by PEP 8),  lowercase with underscores\n",
        "2. Use descriptive names\n",
        "3. Constants should be in UPPER_CASE\n",
        "4. Avoid using single-character names (except common cases like i, x, y for loops or math); avoid using the single characters l (lowercase letter el), O (uppercase letter oh) and I (uppercase letter eye) as they can be confused with 1 and 0"
      ],
      "metadata": {
        "id": "gZ7wAEP8eTWL"
      }
    },
    {
      "cell_type": "code",
      "source": [
        "# Let's create an variable or object called \"a\" and assign it the number 10\n",
        "# Python sets the data type based on the variable assigned to it\n",
        "a = 'Python bootcamp' # The data is a string\n",
        "a = 10  # The data is a uumber now\n",
        "a-9\n"
      ],
      "metadata": {
        "colab": {
          "base_uri": "https://localhost:8080/"
        },
        "id": "Pt5YPBhzF64H",
        "outputId": "a571aaf2-b024-484a-8e7a-610fd5b77031"
      },
      "execution_count": null,
      "outputs": [
        {
          "output_type": "execute_result",
          "data": {
            "text/plain": [
              "1"
            ]
          },
          "metadata": {},
          "execution_count": 66
        }
      ]
    },
    {
      "cell_type": "code",
      "source": [
        "# Sum\n",
        "a+5*a"
      ],
      "metadata": {
        "colab": {
          "base_uri": "https://localhost:8080/"
        },
        "id": "RFCRtDooGFqN",
        "outputId": "6813ad9d-5934-4a64-9b22-6e9bf916480e"
      },
      "execution_count": null,
      "outputs": [
        {
          "output_type": "execute_result",
          "data": {
            "text/plain": [
              "60"
            ]
          },
          "metadata": {},
          "execution_count": 67
        }
      ]
    },
    {
      "cell_type": "code",
      "source": [
        "# Reassignment and check\n",
        "a = 20\n",
        "a-1"
      ],
      "metadata": {
        "colab": {
          "base_uri": "https://localhost:8080/"
        },
        "id": "v8m6qiNhGNDd",
        "outputId": "6dec13e7-760d-4a61-b280-7bddc2fefd42"
      },
      "execution_count": null,
      "outputs": [
        {
          "output_type": "execute_result",
          "data": {
            "text/plain": [
              "19"
            ]
          },
          "metadata": {},
          "execution_count": 68
        }
      ]
    },
    {
      "cell_type": "code",
      "source": [
        "# Use object names to track of update\n",
        "my_income = 1100\n",
        "tax_rate = 0.2\n",
        "my_tax = my_income*tax_rate\n",
        "my_tax"
      ],
      "metadata": {
        "colab": {
          "base_uri": "https://localhost:8080/"
        },
        "id": "auF711vEGaZ4",
        "outputId": "48a4afbc-01ef-46c8-95c7-204fce4c1f26"
      },
      "execution_count": null,
      "outputs": [
        {
          "output_type": "execute_result",
          "data": {
            "text/plain": [
              "220.0"
            ]
          },
          "metadata": {},
          "execution_count": 69
        }
      ]
    },
    {
      "cell_type": "code",
      "source": [
        "# Python uses dynamic typing, meaning variables can be reassigned to different data types. This flexibility distinguishes Python from statically typed languages.\n",
        "# Pros: easy to work with; fast development time; save memory\n",
        "# Cons: hard to track and may result in unexpected bugs (e.g., data type change)\n",
        "insurance = 'Medicaid'\n",
        "insurance"
      ],
      "metadata": {
        "colab": {
          "base_uri": "https://localhost:8080/",
          "height": 35
        },
        "id": "WXZKjqrUg3Ra",
        "outputId": "1d2a277f-ab32-4291-b13c-2f83d3311827"
      },
      "execution_count": null,
      "outputs": [
        {
          "output_type": "execute_result",
          "data": {
            "text/plain": [
              "'Medicaid'"
            ],
            "application/vnd.google.colaboratory.intrinsic+json": {
              "type": "string"
            }
          },
          "metadata": {},
          "execution_count": 70
        }
      ]
    },
    {
      "cell_type": "code",
      "source": [
        "insurance = 'Rejected'\n",
        "insurance"
      ],
      "metadata": {
        "colab": {
          "base_uri": "https://localhost:8080/",
          "height": 35
        },
        "id": "sPeJpXmriJ-A",
        "outputId": "89d1b54e-99eb-4f57-f429-d3cbc44c5afd"
      },
      "execution_count": null,
      "outputs": [
        {
          "output_type": "execute_result",
          "data": {
            "text/plain": [
              "'Rejected'"
            ],
            "application/vnd.google.colaboratory.intrinsic+json": {
              "type": "string"
            }
          },
          "metadata": {},
          "execution_count": 71
        }
      ]
    },
    {
      "cell_type": "code",
      "source": [
        "# Determining variable type with type()\n",
        "a = 1\n",
        "b = 'a'\n",
        "c = (1,2)\n",
        "d = [1,2]\n",
        "print('type of a is', type(a))\n",
        "print('type of b is', type(b))\n",
        "print('type of c is', type(c))\n",
        "print('type of d is', type(d))\n",
        "type(a)"
      ],
      "metadata": {
        "colab": {
          "base_uri": "https://localhost:8080/"
        },
        "id": "eYJW-difjMDw",
        "outputId": "70b9d295-3f14-46c9-c6d4-bacbb33f2b53"
      },
      "execution_count": null,
      "outputs": [
        {
          "output_type": "stream",
          "name": "stdout",
          "text": [
            "type of a is <class 'int'>\n",
            "type of b is <class 'str'>\n",
            "type of c is <class 'tuple'>\n",
            "type of d is <class 'list'>\n"
          ]
        },
        {
          "output_type": "execute_result",
          "data": {
            "text/plain": [
              "int"
            ]
          },
          "metadata": {},
          "execution_count": 72
        }
      ]
    },
    {
      "cell_type": "code",
      "source": [
        "a,b = 1,'a'\n",
        "print(a)\n",
        "print(b)"
      ],
      "metadata": {
        "colab": {
          "base_uri": "https://localhost:8080/"
        },
        "id": "HZba2ehbQC3X",
        "outputId": "bf01dc06-dbeb-4534-f320-0d8c099a0c4c"
      },
      "execution_count": null,
      "outputs": [
        {
          "output_type": "stream",
          "name": "stdout",
          "text": [
            "1\n",
            "a\n"
          ]
        }
      ]
    },
    {
      "cell_type": "markdown",
      "source": [
        "## String"
      ],
      "metadata": {
        "id": "ex9weJBjkDDB"
      }
    },
    {
      "cell_type": "markdown",
      "source": [
        "[string — Common string operations](https://docs.python.org/3/library/string.html)"
      ],
      "metadata": {
        "id": "4hvCIIIaLvRk"
      }
    },
    {
      "cell_type": "code",
      "source": [
        "# In Python, strings are used to store text information, such as names. A string is actually a sequence, meaning Python keeps track of each character in a specific order.\n",
        "# For example, Python interprets the string 'MediCare' as a sequence of letters. This allows us to use indexing to access specific characters, such as the first or last letter.\n",
        "# Single word, using single or double quote\n",
        "'MediCare'\n",
        "\"MediCare\"\n",
        "# Entire phrase\n",
        "'Blue Cross is a commerical insurance'\n",
        "# Be careful with quotes!\n",
        "# ' I'm using single quotes, but this will create an error'\n",
        "\" I'm using single quotes, but this will create an error, use double quote instead\""
      ],
      "metadata": {
        "id": "PkXwuItMkUlq",
        "colab": {
          "base_uri": "https://localhost:8080/",
          "height": 35
        },
        "outputId": "ca49f333-022e-4a42-c1ad-ca66da50d6df"
      },
      "execution_count": null,
      "outputs": [
        {
          "output_type": "execute_result",
          "data": {
            "text/plain": [
              "\" I'm using single quotes, but this will create an error, use double quote instead\""
            ],
            "application/vnd.google.colaboratory.intrinsic+json": {
              "type": "string"
            }
          },
          "metadata": {},
          "execution_count": 74
        }
      ]
    },
    {
      "cell_type": "code",
      "source": [
        "# In Notebook, placing a string in a cell will automatically display it, but the correct way to display strings is by using the print function.\n",
        "# We can simply declare a string\n",
        "'MediCaid'"
      ],
      "metadata": {
        "colab": {
          "base_uri": "https://localhost:8080/",
          "height": 35
        },
        "id": "k3tFzoku_3Fl",
        "outputId": "c54f8828-30ed-4309-89da-3209ccd04f01"
      },
      "execution_count": null,
      "outputs": [
        {
          "output_type": "execute_result",
          "data": {
            "text/plain": [
              "'MediCaid'"
            ],
            "application/vnd.google.colaboratory.intrinsic+json": {
              "type": "string"
            }
          },
          "metadata": {},
          "execution_count": 75
        }
      ]
    },
    {
      "cell_type": "code",
      "source": [
        "# Note that we can't output multiple strings this way\n",
        "'MediCaid'\n",
        "'MediCare'"
      ],
      "metadata": {
        "colab": {
          "base_uri": "https://localhost:8080/",
          "height": 35
        },
        "id": "wkp_OzWn_3B6",
        "outputId": "c8cf9b4a-6c8b-43ba-b04b-6d843fdea3e5"
      },
      "execution_count": null,
      "outputs": [
        {
          "output_type": "execute_result",
          "data": {
            "text/plain": [
              "'MediCare'"
            ],
            "application/vnd.google.colaboratory.intrinsic+json": {
              "type": "string"
            }
          },
          "metadata": {},
          "execution_count": 76
        }
      ]
    },
    {
      "cell_type": "code",
      "source": [
        "# Use a print statement to print a string\n",
        "print('MediCaid')\n",
        "print('MediCare')\n",
        "print('Use \\n print \\n to dispaly a new line')\n",
        "print('MediCaid', 'MediCare')\n",
        "print('MediCaid MediCare')"
      ],
      "metadata": {
        "colab": {
          "base_uri": "https://localhost:8080/"
        },
        "id": "_WWV0i83_2-J",
        "outputId": "a894e780-ec01-426f-8089-7e70d62f8f44"
      },
      "execution_count": null,
      "outputs": [
        {
          "output_type": "stream",
          "name": "stdout",
          "text": [
            "MediCaid\n",
            "MediCare\n",
            "Use \n",
            " print \n",
            " to dispaly a new line\n",
            "MediCaid MediCare\n",
            "MediCaid MediCare\n"
          ]
        }
      ]
    },
    {
      "cell_type": "code",
      "source": [
        "# Python's built-in len() function counts all characters in a string, including spaces and punctuation\n",
        "len('MediCare and MediCaid')"
      ],
      "metadata": {
        "colab": {
          "base_uri": "https://localhost:8080/"
        },
        "id": "cz2j0Q34_26x",
        "outputId": "897bd1c4-5ed0-4b07-e54f-03554aa1845d"
      },
      "execution_count": null,
      "outputs": [
        {
          "output_type": "execute_result",
          "data": {
            "text/plain": [
              "21"
            ]
          },
          "metadata": {},
          "execution_count": 78
        }
      ]
    },
    {
      "cell_type": "code",
      "source": [
        "# Since strings are sequences in Python, you can use indexing to access specific characters by placing brackets [] after an object, with indexing starting at 0\n",
        "# Assign a as a string\n",
        "a = 'MediCaid'\n",
        "print(a)\n",
        "# Show first element\n",
        "print(a[0])\n",
        "# Last letter (one index behind 0 so it loops back around)\n",
        "print(a[-1])"
      ],
      "metadata": {
        "colab": {
          "base_uri": "https://localhost:8080/"
        },
        "id": "iv111ABA_23U",
        "outputId": "a9ab59e6-1812-4752-d8f5-609edd7929e4"
      },
      "execution_count": null,
      "outputs": [
        {
          "output_type": "stream",
          "name": "stdout",
          "text": [
            "MediCaid\n",
            "M\n",
            "d\n"
          ]
        }
      ]
    },
    {
      "cell_type": "code",
      "source": [
        "# Slicing using \":\" which grabs everything up to a designated point (index)\n",
        "# Grab everything past the first character all the way to the end\n",
        "print(a[1:])\n",
        "\n",
        "# Grab everything before the last character all the way to the beginning\n",
        "print(a[:-1])\n",
        "\n",
        "# Grab everything between the first index and the last index. The character at the start index is included, but the character at the end index is not\n",
        "# Index 0-->M; 1-->e; 2-->d; 3-->i; 4-->C; 5-->a; 6-->i; 9-->d;\n",
        "print(a[2:5])\n",
        "\n",
        "#Everything\n",
        "print(a[:])"
      ],
      "metadata": {
        "colab": {
          "base_uri": "https://localhost:8080/"
        },
        "id": "Rv7LoaEi_2wL",
        "outputId": "3249b024-738b-413f-efa7-d9643d416ce5"
      },
      "execution_count": null,
      "outputs": [
        {
          "output_type": "stream",
          "name": "stdout",
          "text": [
            "ediCaid\n",
            "MediCai\n",
            "diC\n",
            "MediCaid\n"
          ]
        }
      ]
    },
    {
      "cell_type": "code",
      "source": [
        "# Grab everything in steps size of 1\n",
        "print(a[::1])\n",
        "# Grab everything in step sizes of 2\n",
        "print(a[::2])\n",
        "# Print a string backwards\n",
        "print(a[::-1])"
      ],
      "metadata": {
        "colab": {
          "base_uri": "https://localhost:8080/"
        },
        "id": "NLXDw2eT_2lJ",
        "outputId": "b37da1c7-130b-4061-8ef9-5811f3d9f406"
      },
      "execution_count": null,
      "outputs": [
        {
          "output_type": "stream",
          "name": "stdout",
          "text": [
            "MediCaid\n",
            "MdCi\n",
            "diaCideM\n"
          ]
        }
      ]
    },
    {
      "cell_type": "code",
      "source": [
        "# Concatenate strings!\n",
        "a + ' MediCare'"
      ],
      "metadata": {
        "colab": {
          "base_uri": "https://localhost:8080/",
          "height": 35
        },
        "id": "Z9-Z3VyG_2sZ",
        "outputId": "61e9d89c-9654-4152-bf55-12228eaa7380"
      },
      "execution_count": null,
      "outputs": [
        {
          "output_type": "execute_result",
          "data": {
            "text/plain": [
              "'MediCaid MediCare'"
            ],
            "application/vnd.google.colaboratory.intrinsic+json": {
              "type": "string"
            }
          },
          "metadata": {},
          "execution_count": 82
        }
      ]
    },
    {
      "cell_type": "code",
      "source": [
        "# multiplication\n",
        "print(a*2)"
      ],
      "metadata": {
        "colab": {
          "base_uri": "https://localhost:8080/"
        },
        "id": "sD7W5Cco_2hb",
        "outputId": "de97ec31-7f0f-4814-d3b3-4b37369ab4e1"
      },
      "execution_count": null,
      "outputs": [
        {
          "output_type": "stream",
          "name": "stdout",
          "text": [
            "MediCaidMediCaid\n"
          ]
        }
      ]
    },
    {
      "cell_type": "code",
      "source": [
        "# Upper Case a string\n",
        "print(a.upper())\n",
        "# Lower case\n",
        "print(a.lower())"
      ],
      "metadata": {
        "colab": {
          "base_uri": "https://localhost:8080/"
        },
        "id": "Pc49s7ZU_2ow",
        "outputId": "f2fcf3b9-15ee-4604-d8cd-6a8811ad8ffa"
      },
      "execution_count": null,
      "outputs": [
        {
          "output_type": "stream",
          "name": "stdout",
          "text": [
            "MEDICAID\n",
            "medicaid\n"
          ]
        }
      ]
    },
    {
      "cell_type": "code",
      "source": [
        "# Split a string by blank space (default)\n",
        "a = 'MediCaid and MediCare'\n",
        "print(a.split())\n",
        "\n",
        "# Split by a specific element (exclude this element)\n",
        "a.split('C')"
      ],
      "metadata": {
        "colab": {
          "base_uri": "https://localhost:8080/"
        },
        "id": "q1SlY9_A_2d7",
        "outputId": "8de5e9bf-ad43-4069-9b4e-81f8463f5100"
      },
      "execution_count": null,
      "outputs": [
        {
          "output_type": "stream",
          "name": "stdout",
          "text": [
            "['MediCaid', 'and', 'MediCare']\n"
          ]
        },
        {
          "output_type": "execute_result",
          "data": {
            "text/plain": [
              "['Medi', 'aid and Medi', 'are']"
            ]
          },
          "metadata": {},
          "execution_count": 85
        }
      ]
    },
    {
      "cell_type": "code",
      "source": [
        "# String formatting, use the .format() method to concatenate or add formatted objects to the string statements.\n",
        "#'Insert another string with curly brackets: {}'.format('The inserted string')\n",
        "'MediCaid and {}'.format('MediCare')\n",
        "\n",
        "# Inserted objects can be called by index position\n",
        "print('Payer types include {2} {1} {0}'.format('Commercial','MediCaid','MediCare'))\n",
        "\n",
        "# Inserted objects can be assigned keywords:\n",
        "print('Patient A has {a} insurnce, first insurance is: {b}, in-network coverage is: {c}'.format(a= 3,b='Commercial',c= 0.9))\n",
        "\n",
        "\n",
        "#3. Inserted objects can be reused, avoiding duplication:\n",
        "\n",
        "print('Blue Cross is %s insurance and Aetna is a %s too.' %('Commercial','Commercial'))\n",
        "# vs.\n",
        "print('Blue Cross is {i} insurance and Aetna is a {i} too.'.format(i='Commercial'))\n"
      ],
      "metadata": {
        "colab": {
          "base_uri": "https://localhost:8080/"
        },
        "id": "ghX5YKNhPWyf",
        "outputId": "d131170a-7983-48f0-fb46-44ed53532845"
      },
      "execution_count": null,
      "outputs": [
        {
          "output_type": "stream",
          "name": "stdout",
          "text": [
            "Payer types include MediCare MediCaid Commercial\n",
            "Patient A has 3 insurnce, first insurance is: Commercial, in-network coverage is: 0.9\n",
            "Blue Cross is Commercial insurance and Aetna is a Commercial too.\n",
            "Blue Cross is Commercial insurance and Aetna is a Commercial too.\n"
          ]
        }
      ]
    },
    {
      "cell_type": "code",
      "source": [
        "# %s to inject strings into a statements. The modulo % is referred to as a \"string formatting operator\".\n",
        "print(\"I have %s insurance.\" %'MediCaid')\n",
        "\n",
        "print(\"I have %s from myself, and %s from my spouse.\" %('MediCaid','Commerical insurance'))\n",
        "\n",
        "x, y = 'MediCaid', 'Commerical insurance'\n",
        "print(\"I have %s from myself, and %s from my spouse.\"%(x,y))\n",
        "\n",
        "# %s and %r convert python object to a string using two separate methods: str() and repr(). %r and repr() deliver the string representation of the object, including quotation marks and any escape characters\n",
        "x, y = 'MediCaid', 'Commerical insurance'\n",
        "print(\"I have %r from myself, and %r from my spouse.\"%(x,y))\n"
      ],
      "metadata": {
        "colab": {
          "base_uri": "https://localhost:8080/"
        },
        "id": "HyyDrbEr_2X1",
        "outputId": "46119845-c572-4ff3-9be5-a15e4361badf"
      },
      "execution_count": null,
      "outputs": [
        {
          "output_type": "stream",
          "name": "stdout",
          "text": [
            "I have MediCaid insurance.\n",
            "I have MediCaid from myself, and Commerical insurance from my spouse.\n",
            "I have MediCaid from myself, and Commerical insurance from my spouse.\n",
            "I have 'MediCaid' from myself, and 'Commerical insurance' from my spouse.\n"
          ]
        }
      ]
    },
    {
      "cell_type": "code",
      "source": [
        "# \\t inserts a tab into a string.\n",
        "print(\"I have %s insurance.\" %'MediCaid')\n",
        "print(\"I have %s insurance.\" %'\\tMediCaid')\n",
        "print(\"I have %s insurance.\" %'\\t MediCaid')"
      ],
      "metadata": {
        "colab": {
          "base_uri": "https://localhost:8080/"
        },
        "id": "FgFAc47W_2UR",
        "outputId": "5235e2c6-59d1-4df4-f4b6-2b97d474f5b8"
      },
      "execution_count": null,
      "outputs": [
        {
          "output_type": "stream",
          "name": "stdout",
          "text": [
            "I have MediCaid insurance.\n",
            "I have \tMediCaid insurance.\n",
            "I have \t MediCaid insurance.\n"
          ]
        }
      ]
    },
    {
      "cell_type": "code",
      "source": [
        "# The %s operator converts raw value into a strin. The %d operator converts numbers to integers first, without rounding.\n",
        "print('My BMI is %s in the recent visit.' %24.25)\n",
        "print('My BMI is %d in the recent visit.' %24.25)"
      ],
      "metadata": {
        "colab": {
          "base_uri": "https://localhost:8080/"
        },
        "id": "6jAETHpe_2HJ",
        "outputId": "f8c0dd06-330d-4a66-8e7e-362ac2859ea4"
      },
      "execution_count": null,
      "outputs": [
        {
          "output_type": "stream",
          "name": "stdout",
          "text": [
            "My BMI is 24.25 in the recent visit.\n",
            "My BMI is 24 in the recent visit.\n"
          ]
        }
      ]
    },
    {
      "cell_type": "code",
      "source": [
        "# Floating point numbers use the format %5.2f. Here, 5 would be the minimum number of characters the string should contain\n",
        "# 2f stands for numbers to show past the decimal point.Can be padded with whitespace if the entire number does not have enouth digits\n",
        "print('Floating point numbers: %5.2f' %(3.14159))\n",
        "print('Floating point numbers: %1.0f' %(3.14159))\n",
        "print('Floating point numbers: %1.5f' %(3.14159))\n",
        "print('Floating point numbers: %5.2f' %(3.14159))\n",
        "print('Ten-character, two-decimal number:%10.2f' %3.14159)\n",
        "print('Ten-character, two-decimal number:{0:10.2f}'.format(3.14159))"
      ],
      "metadata": {
        "colab": {
          "base_uri": "https://localhost:8080/"
        },
        "id": "a_RkX9LNXhrT",
        "outputId": "4d144dac-5c5f-411d-8599-73f4b0c13b9a"
      },
      "execution_count": null,
      "outputs": [
        {
          "output_type": "stream",
          "name": "stdout",
          "text": [
            "Floating point numbers:  3.14\n",
            "Floating point numbers: 3\n",
            "Floating point numbers: 3.14159\n",
            "Floating point numbers:  3.14\n",
            "Ten-character, two-decimal number:      3.14\n",
            "Ten-character, two-decimal number:      3.14\n"
          ]
        }
      ]
    },
    {
      "cell_type": "code",
      "source": [
        "# Bring external variables into to the string, instead of passing through .format(var).\n",
        "payor = 'MediCaid'\n",
        "print(f\"Fed's primary insurance is {payor}.\")\n",
        "print(f\"Fed's primary insurance is {payor!r}.\") # Pass !r to get the string representation:\n",
        "\n",
        "num = 3.14159\n",
        "print(\"Ten character, four decimal number is:{0:10.4f}\".format(num))\n",
        "print(f\"Ten character, four decimal number is:{num:{10}.{6}}\")"
      ],
      "metadata": {
        "colab": {
          "base_uri": "https://localhost:8080/"
        },
        "id": "qlZPGMr8DQRm",
        "outputId": "a5c74bea-7a08-40fa-97de-6c9eda302c70"
      },
      "execution_count": null,
      "outputs": [
        {
          "output_type": "stream",
          "name": "stdout",
          "text": [
            "Fed's primary insurance is MediCaid.\n",
            "Fed's primary insurance is 'MediCaid'.\n",
            "Ten character, four decimal number is:    3.1416\n",
            "Ten character, four decimal number is:   3.14159\n"
          ]
        }
      ]
    },
    {
      "cell_type": "code",
      "source": [
        "# Alighment and padding using .format().By default, .format() aligns text to the left, numbers to the right.\n",
        "print('{0:10} | {1:9}'.format('Patient_ID', 'Insurance'))\n",
        "print('{0:10} | {1:9}'.format(1, 'MediCaid'))\n",
        "print('{0:10} | {1:9}'.format(2, 'Self-pay'))\n",
        "print('---<,^, or > to set a left, center or right alignment---')\n",
        "print('{0:<10} | {1:>9}'.format('Patient_ID', 'Insurance'))\n",
        "print('{0:<10} | {1:>9}'.format(1, 'MediCaid'))\n",
        "print('{0:<10} | {1:>9}'.format(2, 'Self-pay'))\n",
        "print('---precede the aligment operator with a padding character---')\n",
        "print('{0:<10} | {1:>9}'.format('Patient_ID', 'Insurance'))\n",
        "print('{0:=<10} | {1:=>9}'.format(1, 'MediCaid'))\n",
        "print('{0:-<10} | {1:->9}'.format(2, 'MediCare'))\n",
        "print('{0:.<10} | {1:.>9}'.format(2, 'Self-pay'))"
      ],
      "metadata": {
        "colab": {
          "base_uri": "https://localhost:8080/"
        },
        "id": "d9PWYC3mnc-Y",
        "outputId": "f119ddcc-374a-427f-8909-f6dc39ec0667"
      },
      "execution_count": null,
      "outputs": [
        {
          "output_type": "stream",
          "name": "stdout",
          "text": [
            "Patient_ID | Insurance\n",
            "         1 | MediCaid \n",
            "         2 | Self-pay \n",
            "---<,^, or > to set a left, center or right alignment---\n",
            "Patient_ID | Insurance\n",
            "1          |  MediCaid\n",
            "2          |  Self-pay\n",
            "---precede the aligment operator with a padding character---\n",
            "Patient_ID | Insurance\n",
            "1========= | =MediCaid\n",
            "2--------- | -MediCare\n",
            "2......... | .Self-pay\n"
          ]
        }
      ]
    },
    {
      "cell_type": "code",
      "source": [
        "# Advanced\n",
        "s = 'python bootcamp'\n",
        "s.capitalize() # Capitalize first word in string\n",
        "s.upper()\n",
        "s.lower()\n",
        "s.count('o') # returns the number of occurrences, without overlap\n",
        "s.find('o') # returns the starting index position of the first occurence\n",
        "#s.center(20,'x') #  place your string 'centered' between a provided string with a certain length\n",
        "s.isalnum() # True if all characters in s are alphanumeric\n",
        "s.isalpha() # True if all characters in s are alphabetic\n",
        "s.islower() # True if all cased characters in s are lowercase and there is at least one cased character in s\n",
        "s.isspace() # True if all characters in s are whitespace\n",
        "s.endswith('o') # True if the last characters is letter 'o'\n",
        "s.split('o') # Split the string at 'o' and return a list of the results\n",
        "s.partition('o') # Return a tuple that includes the first occurrence of 'o'"
      ],
      "metadata": {
        "colab": {
          "base_uri": "https://localhost:8080/"
        },
        "id": "9KyTjCYzL6fk",
        "outputId": "35c2cf5c-d67c-42d5-cc33-bc630c64a28a"
      },
      "execution_count": 16,
      "outputs": [
        {
          "output_type": "execute_result",
          "data": {
            "text/plain": [
              "('pyth', 'o', 'n bootcamp')"
            ]
          },
          "metadata": {},
          "execution_count": 16
        }
      ]
    },
    {
      "cell_type": "markdown",
      "source": [
        "## List"
      ],
      "metadata": {
        "id": "CtQko4IiGSJq"
      }
    },
    {
      "cell_type": "code",
      "source": [
        "# Lists are constructed with brackets [] and commas separating every item in the list.\n",
        "# List is mutable and each element inside a list can be changed!\n",
        "#\n",
        "# Create a list and assign to an variable (object)\n",
        "my_list1 = [1,2,3]\n",
        "my_list2 = [1,'abc',[1,2,3]]\n",
        "my_list2"
      ],
      "metadata": {
        "colab": {
          "base_uri": "https://localhost:8080/"
        },
        "id": "lX_pIlVBnc5Y",
        "outputId": "1fd96e60-2b6a-486b-ccfc-779e58933593"
      },
      "execution_count": null,
      "outputs": [
        {
          "output_type": "execute_result",
          "data": {
            "text/plain": [
              "[1, 'abc', [1, 2, 3]]"
            ]
          },
          "metadata": {},
          "execution_count": 93
        }
      ]
    },
    {
      "cell_type": "code",
      "source": [
        "#  len() function shows how many items in the sequence of the list.\n",
        "len(my_list2)\n",
        "# len('my_list2') # compare string and list"
      ],
      "metadata": {
        "id": "m7k9RJyxnc06",
        "colab": {
          "base_uri": "https://localhost:8080/"
        },
        "outputId": "c977e5e9-048d-4606-856b-f914cbdfdc5c"
      },
      "execution_count": null,
      "outputs": [
        {
          "output_type": "execute_result",
          "data": {
            "text/plain": [
              "3"
            ]
          },
          "metadata": {},
          "execution_count": 94
        }
      ]
    },
    {
      "cell_type": "code",
      "source": [
        "# Indexing and Slicing, index starts from 0\n",
        "my_list = [1,3,'three','four',5, 'SIX']\n",
        "# Element at index 0\n",
        "my_list[0]\n"
      ],
      "metadata": {
        "id": "f0vUwdcyncw_",
        "colab": {
          "base_uri": "https://localhost:8080/"
        },
        "outputId": "22fa105e-be09-44c2-f391-612d82e70990"
      },
      "execution_count": null,
      "outputs": [
        {
          "output_type": "execute_result",
          "data": {
            "text/plain": [
              "1"
            ]
          },
          "metadata": {},
          "execution_count": 95
        }
      ]
    },
    {
      "cell_type": "code",
      "source": [
        "# index 1 and everything follow it (to the end)\n",
        "my_list[1:]"
      ],
      "metadata": {
        "id": "hAJNJz91ncsj",
        "colab": {
          "base_uri": "https://localhost:8080/"
        },
        "outputId": "17563fde-55a7-4be6-9237-036c1de76112"
      },
      "execution_count": null,
      "outputs": [
        {
          "output_type": "execute_result",
          "data": {
            "text/plain": [
              "[3, 'three', 'four', 5, 'SIX']"
            ]
          },
          "metadata": {},
          "execution_count": 96
        }
      ]
    },
    {
      "cell_type": "code",
      "source": [
        "# Elements before index 3, that is index 0, 1,2; 1st, 2nd and 3rd elements\n",
        "my_list[:3]"
      ],
      "metadata": {
        "id": "QUYyiKrlnco4",
        "colab": {
          "base_uri": "https://localhost:8080/"
        },
        "outputId": "07af87ee-f9ad-4145-ca6f-7edab2e2562b"
      },
      "execution_count": null,
      "outputs": [
        {
          "output_type": "execute_result",
          "data": {
            "text/plain": [
              "[1, 3, 'three']"
            ]
          },
          "metadata": {},
          "execution_count": 97
        }
      ]
    },
    {
      "cell_type": "code",
      "source": [
        "# concatenate lists, similar to the string operation\n",
        "my_list + ['7',9, 'Nine']"
      ],
      "metadata": {
        "id": "xCmW2Jaynck_",
        "colab": {
          "base_uri": "https://localhost:8080/"
        },
        "outputId": "b5ace8db-3093-4daf-afb4-8ff11b0e6500"
      },
      "execution_count": null,
      "outputs": [
        {
          "output_type": "execute_result",
          "data": {
            "text/plain": [
              "[1, 3, 'three', 'four', 5, 'SIX', '7', 9, 'Nine']"
            ]
          },
          "metadata": {},
          "execution_count": 98
        }
      ]
    },
    {
      "cell_type": "code",
      "source": [
        "# Append\n",
        "my_list.append('appended item')\n",
        "my_list"
      ],
      "metadata": {
        "colab": {
          "base_uri": "https://localhost:8080/"
        },
        "id": "QgShMB1eDq4a",
        "outputId": "1f67d58f-707b-4ff5-ef03-241ae8051ecb"
      },
      "execution_count": null,
      "outputs": [
        {
          "output_type": "execute_result",
          "data": {
            "text/plain": [
              "[1, 3, 'three', 'four', 5, 'SIX', 'appended item']"
            ]
          },
          "metadata": {},
          "execution_count": 99
        }
      ]
    },
    {
      "cell_type": "code",
      "source": [
        "#  pop function drop an item from the list. Delete the last index by default, or specify which index to pop off.\n",
        "my_list.pop() # last element by default\n",
        "# my_list.pop(0) # index 0 or first item\n",
        "my_list"
      ],
      "metadata": {
        "colab": {
          "base_uri": "https://localhost:8080/"
        },
        "id": "SAVaytp_EHFD",
        "outputId": "e304a971-6a93-42a7-bc0b-cec8b0dd1c74"
      },
      "execution_count": null,
      "outputs": [
        {
          "output_type": "execute_result",
          "data": {
            "text/plain": [
              "[1, 3, 'three', 'four', 5, 'SIX']"
            ]
          },
          "metadata": {},
          "execution_count": 100
        }
      ]
    },
    {
      "cell_type": "code",
      "source": [
        "# use the * for a duplication, similar to the string operation\n",
        "# Make the list double\n",
        "my_list * 2"
      ],
      "metadata": {
        "id": "527ERL9GnchR",
        "colab": {
          "base_uri": "https://localhost:8080/"
        },
        "outputId": "4b95dd99-4d7b-4346-ba3a-93bc8822ae61"
      },
      "execution_count": null,
      "outputs": [
        {
          "output_type": "execute_result",
          "data": {
            "text/plain": [
              "[1, 3, 'three', 'four', 5, 'SIX', 1, 3, 'three', 'four', 5, 'SIX']"
            ]
          },
          "metadata": {},
          "execution_count": 101
        }
      ]
    },
    {
      "cell_type": "code",
      "source": [
        "# Use reverse to reverse order\n",
        "my_list.reverse()\n",
        "my_list"
      ],
      "metadata": {
        "colab": {
          "base_uri": "https://localhost:8080/"
        },
        "id": "BQOfcr5VDcAp",
        "outputId": "6fa6b2b9-56e6-4035-bd3d-260d8c1fa13a"
      },
      "execution_count": null,
      "outputs": [
        {
          "output_type": "execute_result",
          "data": {
            "text/plain": [
              "['SIX', 5, 'four', 'three', 3, 1]"
            ]
          },
          "metadata": {},
          "execution_count": 102
        }
      ]
    },
    {
      "cell_type": "code",
      "source": [
        "# Nesting Lists\n",
        "list1,list2, list3  = [1,2,3],[4,5,6],[7,8,9]\n",
        "matrix = [list1,list2,list3]\n",
        "matrix"
      ],
      "metadata": {
        "id": "cXpSwRLFncdY",
        "colab": {
          "base_uri": "https://localhost:8080/"
        },
        "outputId": "52b4334e-5e3c-4ff3-f542-b8618fdad447"
      },
      "execution_count": null,
      "outputs": [
        {
          "output_type": "execute_result",
          "data": {
            "text/plain": [
              "[[1, 2, 3], [4, 5, 6], [7, 8, 9]]"
            ]
          },
          "metadata": {},
          "execution_count": 103
        }
      ]
    },
    {
      "cell_type": "code",
      "source": [
        "matrix[0]\n",
        "#matrix[0][0]"
      ],
      "metadata": {
        "id": "mh5Nv05ZncZJ",
        "colab": {
          "base_uri": "https://localhost:8080/"
        },
        "outputId": "2f566a5b-0fb1-4a2c-81a7-1c1ee3478677"
      },
      "execution_count": null,
      "outputs": [
        {
          "output_type": "execute_result",
          "data": {
            "text/plain": [
              "[1, 2, 3]"
            ]
          },
          "metadata": {},
          "execution_count": 104
        }
      ]
    },
    {
      "cell_type": "code",
      "source": [
        "# List comprehension by deconstructing a for loop within a []\n",
        "row_head = [row[0] for row in matrix]\n",
        "row_head"
      ],
      "metadata": {
        "id": "Nv2sTJw2ncNs",
        "colab": {
          "base_uri": "https://localhost:8080/"
        },
        "outputId": "177113b7-0260-427b-e165-fedb58427a14"
      },
      "execution_count": null,
      "outputs": [
        {
          "output_type": "execute_result",
          "data": {
            "text/plain": [
              "[1, 4, 7]"
            ]
          },
          "metadata": {},
          "execution_count": 105
        }
      ]
    },
    {
      "cell_type": "code",
      "source": [
        "# order\n",
        "my_list = [2,6,4,1,3,5]\n",
        "sorted(my_list)"
      ],
      "metadata": {
        "colab": {
          "base_uri": "https://localhost:8080/"
        },
        "id": "_WqND1_caArQ",
        "outputId": "70430347-374e-4977-b30f-98133bd91f87"
      },
      "execution_count": null,
      "outputs": [
        {
          "output_type": "execute_result",
          "data": {
            "text/plain": [
              "[1, 2, 3, 4, 5, 6]"
            ]
          },
          "metadata": {},
          "execution_count": 41
        }
      ]
    },
    {
      "cell_type": "code",
      "source": [
        "min(my_list)\n",
        "max(my_list)"
      ],
      "metadata": {
        "colab": {
          "base_uri": "https://localhost:8080/"
        },
        "id": "PpyXSzYk7uFQ",
        "outputId": "afb374da-8161-47f4-8741-b788c43f21ee"
      },
      "execution_count": null,
      "outputs": [
        {
          "output_type": "execute_result",
          "data": {
            "text/plain": [
              "6"
            ]
          },
          "metadata": {},
          "execution_count": 71
        }
      ]
    },
    {
      "cell_type": "code",
      "source": [
        "# Advanced, from chatgpt\n",
        "my_list = [2,6,4,1,3,5]\n",
        "my_list.sort()\n",
        "my_list.count(2)\n",
        "my_list.append([4, 5])\n",
        "my_list.extend([4, 5])\n",
        "my_list.index(2)\n",
        "my_list.insert(2,'insert')\n",
        "my_list.pop()\n",
        "my_list.remove('insert')\n",
        "my_list.reverse()\n"
      ],
      "metadata": {
        "id": "tw4gt2PG7t6Y"
      },
      "execution_count": 60,
      "outputs": []
    },
    {
      "cell_type": "markdown",
      "source": [
        "## Dictionary"
      ],
      "metadata": {
        "id": "mvwGIKYqJSpQ"
      }
    },
    {
      "cell_type": "code",
      "source": [
        "# A Python dictionary consists of the key and associated value. The value can be int, float, string, list, dictionary or almost any Python object.\n",
        "# Make a dictionary with {} including key:value pairs\n",
        "my_dict = {'key1':'value1','key2':'value2'}\n",
        "\n",
        "my_dict = {'key1':123,'key2':[400,500,600],'key3':'abcd'}\n",
        "\n",
        "# Call values by  key\n",
        "my_dict['key2']"
      ],
      "metadata": {
        "colab": {
          "base_uri": "https://localhost:8080/"
        },
        "id": "JzUNw9NmJZAP",
        "outputId": "1ccf0090-96cc-4e75-e8dc-3d12924e878e"
      },
      "execution_count": null,
      "outputs": [
        {
          "output_type": "execute_result",
          "data": {
            "text/plain": [
              "[400, 500, 600]"
            ]
          },
          "metadata": {},
          "execution_count": 43
        }
      ]
    },
    {
      "cell_type": "code",
      "source": [
        "# Call an index to get the value\n",
        "#my_dict['key3'][0] # Get the first character from the string\n",
        "#my_dict['key2'][0] # Get the first element from the list\n",
        "\n",
        "my_dict['key2'] = my_dict['key1'] - 123 # Subtract 123 from the value\n",
        "#my_dict['key2'] -= 123 # Same function as script above"
      ],
      "metadata": {
        "id": "mtocxGI2JY83"
      },
      "execution_count": null,
      "outputs": []
    },
    {
      "cell_type": "code",
      "source": [
        "# Create a dictionary\n",
        "my_dict = {}\n",
        "# Create a new key through assignment\n",
        "my_dict['C1'] = '123'\n",
        "my_dict['C2'] = [400,500,600]\n",
        "my_dict['C3'] = 'abcd'\n",
        "my_dict"
      ],
      "metadata": {
        "colab": {
          "base_uri": "https://localhost:8080/"
        },
        "id": "4R14f_4oJY4Y",
        "outputId": "5e7903c8-a5cb-41bd-ee54-f4337bfd407e"
      },
      "execution_count": 56,
      "outputs": [
        {
          "output_type": "execute_result",
          "data": {
            "text/plain": [
              "{'C1': '123', 'C2': [400, 500, 600], 'C3': 'abcd'}"
            ]
          },
          "metadata": {},
          "execution_count": 56
        }
      ]
    },
    {
      "cell_type": "code",
      "source": [
        "# # Dictionary nests inside a dictionary\n",
        "my_dict['C3'] = {'C1': '123', 'C3': 'abcd'}\n",
        "my_dict"
      ],
      "metadata": {
        "colab": {
          "base_uri": "https://localhost:8080/"
        },
        "id": "uiRqeJ6CJY0H",
        "outputId": "c9a068cb-0e48-4ded-cd52-8f916be66ba9"
      },
      "execution_count": null,
      "outputs": [
        {
          "output_type": "execute_result",
          "data": {
            "text/plain": [
              "{'C1': '123', 'C2': [400, 500, 600], 'C3': {'C1': '123', 'C3': 'abcd'}}"
            ]
          },
          "metadata": {},
          "execution_count": 109
        }
      ]
    },
    {
      "cell_type": "code",
      "source": [
        "my_dict['C3']['C1']"
      ],
      "metadata": {
        "colab": {
          "base_uri": "https://localhost:8080/",
          "height": 35
        },
        "id": "u2zUFmx2JYwX",
        "outputId": "7d45a2ce-6aba-4de6-a1bf-c39d1c98c550"
      },
      "execution_count": null,
      "outputs": [
        {
          "output_type": "execute_result",
          "data": {
            "text/plain": [
              "'123'"
            ],
            "application/vnd.google.colaboratory.intrinsic+json": {
              "type": "string"
            }
          },
          "metadata": {},
          "execution_count": 110
        }
      ]
    },
    {
      "cell_type": "code",
      "source": [
        "my_dict.keys() # Method to return all keys .\n",
        "my_dict.values() # Method to return all values\n",
        "my_dict.items() # Method to return all key:value pairs"
      ],
      "metadata": {
        "colab": {
          "base_uri": "https://localhost:8080/"
        },
        "id": "W6JTmz9sJYr5",
        "outputId": "25ccfb2b-bc80-48e1-df87-087aa116ea1b"
      },
      "execution_count": null,
      "outputs": [
        {
          "output_type": "execute_result",
          "data": {
            "text/plain": [
              "dict_items([('key1', 123), ('key2', [400, 500, 600]), ('key3', 'abcd')])"
            ]
          },
          "metadata": {},
          "execution_count": 46
        }
      ]
    },
    {
      "cell_type": "code",
      "source": [
        "# Advanced\n",
        "[x**2 for x in range(5)]\n",
        "{x:x**2 for x in range(5)} # Dictionary Comprehensions\n"
      ],
      "metadata": {
        "colab": {
          "base_uri": "https://localhost:8080/"
        },
        "id": "bK9fIOuyZMHm",
        "outputId": "aeda9390-cc6a-4dfa-f161-e8bfc6440cbf"
      },
      "execution_count": 55,
      "outputs": [
        {
          "output_type": "execute_result",
          "data": {
            "text/plain": [
              "[0, 1, 4, 9, 16]"
            ]
          },
          "metadata": {},
          "execution_count": 55
        }
      ]
    },
    {
      "cell_type": "code",
      "source": [
        "for k in my_dict.keys(): # .values():; .items():\n",
        "    print(k)"
      ],
      "metadata": {
        "colab": {
          "base_uri": "https://localhost:8080/"
        },
        "id": "_Rg-0tnJZpto",
        "outputId": "1dfb56f7-0315-4435-a549-21ca66aa17a9"
      },
      "execution_count": 57,
      "outputs": [
        {
          "output_type": "stream",
          "name": "stdout",
          "text": [
            "C1\n",
            "C2\n",
            "C3\n"
          ]
        }
      ]
    },
    {
      "cell_type": "markdown",
      "source": [
        "## Tuple"
      ],
      "metadata": {
        "id": "V-gW3wjQOy4s"
      }
    },
    {
      "cell_type": "code",
      "source": [
        "# Tuple is similar to the list, but it is immutable or can not be changed. Use tuples for unchanged, such as date\n",
        "# Create a tuple, tuples use () with elements separated by commas\n",
        "my_tuple = (1,'two',3)  # Can mix object types"
      ],
      "metadata": {
        "id": "5mb7YjX1JYnP"
      },
      "execution_count": null,
      "outputs": []
    },
    {
      "cell_type": "code",
      "source": [
        "# Check len just like a list\n",
        "len(my_tuple)"
      ],
      "metadata": {
        "colab": {
          "base_uri": "https://localhost:8080/"
        },
        "id": "Uc0ac1XVJYjv",
        "outputId": "36a23aac-461f-4ddb-a58b-65a08f6b6e56"
      },
      "execution_count": null,
      "outputs": [
        {
          "output_type": "execute_result",
          "data": {
            "text/plain": [
              "3"
            ]
          },
          "metadata": {},
          "execution_count": 113
        }
      ]
    },
    {
      "cell_type": "code",
      "source": [
        "# Like list, use index to pull element\n",
        "#my_tuple[1]\n",
        "my_tuple[-1]"
      ],
      "metadata": {
        "colab": {
          "base_uri": "https://localhost:8080/"
        },
        "id": "dDKGDTyhJYf5",
        "outputId": "2dd90152-0341-4e86-b82c-1e50f184c67f"
      },
      "execution_count": null,
      "outputs": [
        {
          "output_type": "execute_result",
          "data": {
            "text/plain": [
              "3"
            ]
          },
          "metadata": {},
          "execution_count": 114
        }
      ]
    },
    {
      "cell_type": "code",
      "source": [
        "# .index returns the index used value loaded\n",
        "my_tuple.index('two')"
      ],
      "metadata": {
        "colab": {
          "base_uri": "https://localhost:8080/"
        },
        "id": "MNreoU4rJYb2",
        "outputId": "80bf5ca4-89a2-4946-ee9a-8d1373da8167"
      },
      "execution_count": null,
      "outputs": [
        {
          "output_type": "execute_result",
          "data": {
            "text/plain": [
              "1"
            ]
          },
          "metadata": {},
          "execution_count": 115
        }
      ]
    },
    {
      "cell_type": "code",
      "source": [
        "# .count to count the number of times a value appears\n",
        "my_tuple.count('two')"
      ],
      "metadata": {
        "colab": {
          "base_uri": "https://localhost:8080/"
        },
        "id": "dFKhhxxWJYPP",
        "outputId": "fcf3da8f-82b5-437d-ebac-c52fd9006a36"
      },
      "execution_count": null,
      "outputs": [
        {
          "output_type": "execute_result",
          "data": {
            "text/plain": [
              "1"
            ]
          },
          "metadata": {},
          "execution_count": 116
        }
      ]
    },
    {
      "cell_type": "code",
      "source": [
        "# Immutability. Tuple is immutable\n",
        "my_tuple[0]= 'change'"
      ],
      "metadata": {
        "colab": {
          "base_uri": "https://localhost:8080/",
          "height": 159
        },
        "id": "-L-xwZQGXnDB",
        "outputId": "0324b1c6-fab6-43df-ab79-d5fcd359df6b"
      },
      "execution_count": null,
      "outputs": [
        {
          "output_type": "error",
          "ename": "TypeError",
          "evalue": "'tuple' object does not support item assignment",
          "traceback": [
            "\u001b[0;31m---------------------------------------------------------------------------\u001b[0m",
            "\u001b[0;31mTypeError\u001b[0m                                 Traceback (most recent call last)",
            "\u001b[0;32m<ipython-input-117-70b587d05597>\u001b[0m in \u001b[0;36m<cell line: 0>\u001b[0;34m()\u001b[0m\n\u001b[1;32m      1\u001b[0m \u001b[0;31m# Immutability\u001b[0m\u001b[0;34m\u001b[0m\u001b[0;34m\u001b[0m\u001b[0m\n\u001b[0;32m----> 2\u001b[0;31m \u001b[0mmy_tuple\u001b[0m\u001b[0;34m[\u001b[0m\u001b[0;36m0\u001b[0m\u001b[0;34m]\u001b[0m\u001b[0;34m=\u001b[0m \u001b[0;34m'change'\u001b[0m\u001b[0;34m\u001b[0m\u001b[0;34m\u001b[0m\u001b[0m\n\u001b[0m",
            "\u001b[0;31mTypeError\u001b[0m: 'tuple' object does not support item assignment"
          ]
        }
      ]
    },
    {
      "cell_type": "code",
      "source": [
        "# Tuples can't grow due to immutability. Once a tuple is created we can not add or change a variable.\n",
        "my_tuple.append('nope')"
      ],
      "metadata": {
        "colab": {
          "base_uri": "https://localhost:8080/",
          "height": 159
        },
        "id": "g2_IUbq4Xm40",
        "outputId": "0f57c1d5-5684-4072-d57c-5b43a2d66636"
      },
      "execution_count": null,
      "outputs": [
        {
          "output_type": "error",
          "ename": "AttributeError",
          "evalue": "'tuple' object has no attribute 'append'",
          "traceback": [
            "\u001b[0;31m---------------------------------------------------------------------------\u001b[0m",
            "\u001b[0;31mAttributeError\u001b[0m                            Traceback (most recent call last)",
            "\u001b[0;32m<ipython-input-118-4b07e8f35fb4>\u001b[0m in \u001b[0;36m<cell line: 0>\u001b[0;34m()\u001b[0m\n\u001b[1;32m      1\u001b[0m \u001b[0;31m# Tuples can't grow due to immutability. Once a tuple is created we can not add or change a variable.\u001b[0m\u001b[0;34m\u001b[0m\u001b[0;34m\u001b[0m\u001b[0m\n\u001b[0;32m----> 2\u001b[0;31m \u001b[0mmy_tuple\u001b[0m\u001b[0;34m.\u001b[0m\u001b[0mappend\u001b[0m\u001b[0;34m(\u001b[0m\u001b[0;34m'nope'\u001b[0m\u001b[0;34m)\u001b[0m\u001b[0;34m\u001b[0m\u001b[0;34m\u001b[0m\u001b[0m\n\u001b[0m",
            "\u001b[0;31mAttributeError\u001b[0m: 'tuple' object has no attribute 'append'"
          ]
        }
      ]
    },
    {
      "cell_type": "markdown",
      "source": [
        "## Set"
      ],
      "metadata": {
        "id": "0t7BMF-9ZTAm"
      }
    },
    {
      "cell_type": "markdown",
      "source": [
        "[Set Types](https://docs.python.org/3/library/stdtypes.html#set-types-set-frozenset)"
      ],
      "metadata": {
        "id": "65v9HO5ZPP0K"
      }
    },
    {
      "cell_type": "code",
      "source": [
        "# Set is an unordered collection of unique elements (no duplicates).\n",
        "my_set = set()\n",
        "# add() method\n",
        "my_set.add(1)\n",
        "my_set.add('a')\n",
        "my_set"
      ],
      "metadata": {
        "colab": {
          "base_uri": "https://localhost:8080/"
        },
        "id": "Tjtp7fTGXm0S",
        "outputId": "acbc5ba8-61da-461e-b58e-b23c36fefaf7"
      },
      "execution_count": 17,
      "outputs": [
        {
          "output_type": "execute_result",
          "data": {
            "text/plain": [
              "{1, 'a'}"
            ]
          },
          "metadata": {},
          "execution_count": 17
        }
      ]
    },
    {
      "cell_type": "code",
      "source": [
        "# Create a list with repeats. Set will drop duplicates\n",
        "list = [1,1,2,2,3,4,5,6,6]\n",
        "set(list)"
      ],
      "metadata": {
        "colab": {
          "base_uri": "https://localhost:8080/"
        },
        "id": "0iSyQvo0XmvR",
        "outputId": "40caeba7-ba47-49d4-bd9b-9acaa1f95946"
      },
      "execution_count": 18,
      "outputs": [
        {
          "output_type": "execute_result",
          "data": {
            "text/plain": [
              "{1, 2, 3, 4, 5, 6}"
            ]
          },
          "metadata": {},
          "execution_count": 18
        }
      ]
    },
    {
      "cell_type": "code",
      "source": [
        "# Advanced\n",
        "l = set([1,1,2,2,3,4,5,6,6])\n",
        "l.clear()\n",
        "l = set([1,1,2,2,3,4,5,6,6])\n",
        "lc = l.copy()\n",
        "lc.add(100)\n",
        "\n",
        "l.discard(2)"
      ],
      "metadata": {
        "id": "iYRdNb5kPb1B"
      },
      "execution_count": 36,
      "outputs": []
    },
    {
      "cell_type": "code",
      "source": [
        "lc.difference(l)  # Returns the difference between two or more sets"
      ],
      "metadata": {
        "id": "S6Gdlr04REjH"
      },
      "execution_count": 37,
      "outputs": []
    },
    {
      "cell_type": "code",
      "source": [
        "l = set([1,1,2,2,3,4,5,6,6])\n",
        "lc = l.copy()\n",
        "lc.add(100)\n",
        "l.intersection(lc) # Returns the shared elements of the two sets as a new set"
      ],
      "metadata": {
        "colab": {
          "base_uri": "https://localhost:8080/"
        },
        "id": "bLCAzLE3SKce",
        "outputId": "c29cfd52-1baf-48d9-b68f-f5439607350e"
      },
      "execution_count": 42,
      "outputs": [
        {
          "output_type": "execute_result",
          "data": {
            "text/plain": [
              "{1, 2, 3, 4, 5, 6}"
            ]
          },
          "metadata": {},
          "execution_count": 42
        }
      ]
    },
    {
      "cell_type": "code",
      "source": [
        "lc.intersection_update(l) # Update a set with the intersection of itself and another.\n",
        "lc"
      ],
      "metadata": {
        "colab": {
          "base_uri": "https://localhost:8080/"
        },
        "id": "-ImqiYKQSfIU",
        "outputId": "0d0785e4-6e57-43d4-bc80-5b71e333cff3"
      },
      "execution_count": 46,
      "outputs": [
        {
          "output_type": "execute_result",
          "data": {
            "text/plain": [
              "{1, 2, 3, 4, 5, 6}"
            ]
          },
          "metadata": {},
          "execution_count": 46
        }
      ]
    },
    {
      "cell_type": "code",
      "source": [
        "l = set([1,1,2,2,3,4,5,6,6])\n",
        "lc = l.copy()\n",
        "lc.add(100)\n",
        "lc.isdisjoint(l) # Returns True if two sets have a null intersection"
      ],
      "metadata": {
        "colab": {
          "base_uri": "https://localhost:8080/"
        },
        "id": "Yc11dxiXUc1q",
        "outputId": "e9e9749d-247a-453a-f2d0-467b312e3a70"
      },
      "execution_count": 47,
      "outputs": [
        {
          "output_type": "execute_result",
          "data": {
            "text/plain": [
              "False"
            ]
          },
          "metadata": {},
          "execution_count": 47
        }
      ]
    },
    {
      "cell_type": "code",
      "source": [
        "l = set([1,1,2,2,3,4,5,6,6])\n",
        "lc = l.copy()\n",
        "lc.add(100)\n",
        "l.issubset(lc) # Return whether another set contains this set"
      ],
      "metadata": {
        "colab": {
          "base_uri": "https://localhost:8080/"
        },
        "id": "sT8qPbsEUcx7",
        "outputId": "a56fc47d-0b5a-4e44-b7f0-69da8d926cc0"
      },
      "execution_count": 49,
      "outputs": [
        {
          "output_type": "execute_result",
          "data": {
            "text/plain": [
              "True"
            ]
          },
          "metadata": {},
          "execution_count": 49
        }
      ]
    },
    {
      "cell_type": "code",
      "source": [
        "lc.issuperset(lc) # Return whether this set contains another set."
      ],
      "metadata": {
        "colab": {
          "base_uri": "https://localhost:8080/"
        },
        "id": "0ZDpgWmOUctk",
        "outputId": "c6e79780-8de0-4360-8eb8-d5b2374a2a76"
      },
      "execution_count": 50,
      "outputs": [
        {
          "output_type": "execute_result",
          "data": {
            "text/plain": [
              "True"
            ]
          },
          "metadata": {},
          "execution_count": 50
        }
      ]
    },
    {
      "cell_type": "code",
      "source": [
        "lc.union(l) # Returns the union of two sets (i.e. all elements that are in either set.)"
      ],
      "metadata": {
        "colab": {
          "base_uri": "https://localhost:8080/"
        },
        "id": "fwYfz0A0UcpM",
        "outputId": "a6d85d43-5c45-49be-ab0d-9358ad1e5adb"
      },
      "execution_count": 51,
      "outputs": [
        {
          "output_type": "execute_result",
          "data": {
            "text/plain": [
              "{1, 2, 3, 4, 5, 6, 100}"
            ]
          },
          "metadata": {},
          "execution_count": 51
        }
      ]
    },
    {
      "cell_type": "code",
      "source": [
        "l.update(lc) # Update a set with the union of itself and others.\n",
        "l"
      ],
      "metadata": {
        "colab": {
          "base_uri": "https://localhost:8080/"
        },
        "id": "5B9YZDCSYrpT",
        "outputId": "5d131dc9-176c-4397-f1a9-04a2b50afd46"
      },
      "execution_count": 53,
      "outputs": [
        {
          "output_type": "execute_result",
          "data": {
            "text/plain": [
              "{1, 2, 3, 4, 5, 6, 100}"
            ]
          },
          "metadata": {},
          "execution_count": 53
        }
      ]
    },
    {
      "cell_type": "markdown",
      "source": [
        "## Boolean"
      ],
      "metadata": {
        "id": "o_10CH8OxFXw"
      }
    },
    {
      "cell_type": "markdown",
      "source": [
        "comparison operators:\n",
        "\n",
        "<table class=\"table table-bordered\">\n",
        "<tr>\n",
        "<th style=\"width:10%\">Operator</th><th style=\"width:45%\">Description</th><th>Example</th>\n",
        "</tr>\n",
        "<tr>\n",
        "<td>==</td>\n",
        "<td>If the values of two operands are equal, then the condition is True.</td>\n",
        "<td> (a == b) is not True.</td>\n",
        "</tr>\n",
        "<tr>\n",
        "<td>!=</td>\n",
        "<td>If values of two operands are not equal, then condition is True.</td>\n",
        "<td> (a != b) is True.</td>\n",
        "</tr>\n",
        "<tr>\n",
        "<td>&gt;</td>\n",
        "<td>If the value of left operand is greater than the value of right operand, then condition is True.</td>\n",
        "<td> (a &gt; b) is not True.</td>\n",
        "</tr>\n",
        "<tr>\n",
        "<td>&lt;</td>\n",
        "<td>If the value of left operand is less than the value of right operand, then condition is True.</td>\n",
        "<td> (a &lt; b) is True.</td>\n",
        "</tr>\n",
        "<tr>\n",
        "<td>&gt;=</td>\n",
        "<td>If the value of left operand is greater than or equal to the value of right operand, then condition is True.</td>\n",
        "<td> (a &gt;= b) is not True. </td>\n",
        "</tr>\n",
        "<tr>\n",
        "<td>&lt;=</td>\n",
        "<td>If the value of left operand is less than or equal to the value of right operand, then condition is True.</td>\n",
        "<td> (a &lt;= b) is True. </td>\n",
        "</tr>\n",
        "</table>"
      ],
      "metadata": {
        "id": "GkwiJcr6wEQO"
      }
    },
    {
      "cell_type": "code",
      "source": [
        "# Booleans (True/False or 1/0).\n",
        "# Set object to be a boolean\n",
        "a = True\n",
        "a"
      ],
      "metadata": {
        "colab": {
          "base_uri": "https://localhost:8080/"
        },
        "id": "U5mx-IH4Xmri",
        "outputId": "98544580-faf1-4478-92dd-ce126bfd1800"
      },
      "execution_count": null,
      "outputs": [
        {
          "output_type": "execute_result",
          "data": {
            "text/plain": [
              "True"
            ]
          },
          "metadata": {},
          "execution_count": 127
        }
      ]
    },
    {
      "cell_type": "code",
      "source": [
        "# Output is boolean\n",
        "3 > 4"
      ],
      "metadata": {
        "colab": {
          "base_uri": "https://localhost:8080/"
        },
        "id": "gXoPJJ5FXmn5",
        "outputId": "ff446b60-9d01-4403-98b9-7b153dc5d27a"
      },
      "execution_count": null,
      "outputs": [
        {
          "output_type": "execute_result",
          "data": {
            "text/plain": [
              "False"
            ]
          },
          "metadata": {},
          "execution_count": 128
        }
      ]
    },
    {
      "cell_type": "code",
      "source": [
        "5 == 5 # equal\n",
        "2 != 1 # not equal\n",
        "2 >= 1 # greater than or equal\n",
        "2 <= 1 # less than or equal"
      ],
      "metadata": {
        "id": "IZiaHq_6Xmdr"
      },
      "execution_count": null,
      "outputs": []
    },
    {
      "cell_type": "code",
      "source": [
        "# Chained Comparison Operators\n",
        "1 < 2 < 3"
      ],
      "metadata": {
        "colab": {
          "base_uri": "https://localhost:8080/"
        },
        "id": "72RtZYGUXmaS",
        "outputId": "25e9733a-fcfe-45b3-c6d3-db300987a554"
      },
      "execution_count": null,
      "outputs": [
        {
          "output_type": "execute_result",
          "data": {
            "text/plain": [
              "True"
            ]
          },
          "metadata": {},
          "execution_count": 131
        }
      ]
    },
    {
      "cell_type": "code",
      "source": [
        "# and means two checks are True, and then the total check to be True.\n",
        "1<2 and 2<3"
      ],
      "metadata": {
        "colab": {
          "base_uri": "https://localhost:8080/"
        },
        "id": "hieNv2HrXmW5",
        "outputId": "46a6d804-61cc-4506-a6bd-dfa8dc9ef710"
      },
      "execution_count": null,
      "outputs": [
        {
          "output_type": "execute_result",
          "data": {
            "text/plain": [
              "True"
            ]
          },
          "metadata": {},
          "execution_count": 132
        }
      ]
    },
    {
      "cell_type": "code",
      "source": [
        "1 < 3 > 5"
      ],
      "metadata": {
        "colab": {
          "base_uri": "https://localhost:8080/"
        },
        "id": "I0hwTKvRXmSp",
        "outputId": "6378a377-d518-446b-9dba-263911803c27"
      },
      "execution_count": null,
      "outputs": [
        {
          "output_type": "execute_result",
          "data": {
            "text/plain": [
              "False"
            ]
          },
          "metadata": {},
          "execution_count": 136
        }
      ]
    },
    {
      "cell_type": "code",
      "source": [
        "1==1 or 100==1"
      ],
      "metadata": {
        "colab": {
          "base_uri": "https://localhost:8080/"
        },
        "id": "WngoR8jKXmHA",
        "outputId": "3051000a-b065-41cf-e7cf-df9c8b891956"
      },
      "execution_count": null,
      "outputs": [
        {
          "output_type": "execute_result",
          "data": {
            "text/plain": [
              "True"
            ]
          },
          "metadata": {},
          "execution_count": 137
        }
      ]
    },
    {
      "cell_type": "code",
      "source": [
        "'x' in ['x','y','z']"
      ],
      "metadata": {
        "colab": {
          "base_uri": "https://localhost:8080/"
        },
        "id": "elGB8kle7hBo",
        "outputId": "af0c1272-5105-44af-c6e6-022ba21eecb3"
      },
      "execution_count": null,
      "outputs": [
        {
          "output_type": "execute_result",
          "data": {
            "text/plain": [
              "True"
            ]
          },
          "metadata": {},
          "execution_count": 69
        }
      ]
    },
    {
      "cell_type": "code",
      "source": [
        "'x' not in ['x','y','z']"
      ],
      "metadata": {
        "colab": {
          "base_uri": "https://localhost:8080/"
        },
        "id": "CrmMjN3n7g9a",
        "outputId": "bc163fba-2856-48fc-ccfc-121654062fe9"
      },
      "execution_count": null,
      "outputs": [
        {
          "output_type": "execute_result",
          "data": {
            "text/plain": [
              "False"
            ]
          },
          "metadata": {},
          "execution_count": 70
        }
      ]
    },
    {
      "cell_type": "code",
      "source": [
        "# all() and any(). all() will return True if all elements are True\n",
        "my_list = [True,True,False,True]\n",
        "all(my_list)\n",
        "any(my_list)"
      ],
      "metadata": {
        "colab": {
          "base_uri": "https://localhost:8080/"
        },
        "id": "QnRHNTJ31GDX",
        "outputId": "5a119dd4-1698-4f18-cb5c-35dbb3f46a2e"
      },
      "execution_count": null,
      "outputs": [
        {
          "output_type": "execute_result",
          "data": {
            "text/plain": [
              "True"
            ]
          },
          "metadata": {},
          "execution_count": 41
        }
      ]
    },
    {
      "cell_type": "markdown",
      "source": [
        "<table class=\"table table-bordered\">\n",
        "<tr>\n",
        "<th style=\"width:10%\">Method</th><th style=\"width:45%\">Description</th><th>Example</th>\n",
        "</tr>\n",
        "<tr>\n",
        "<td>isalpha()</td>\n",
        "<td>Checks if all characters are alphabetic (a-z, A-Z).</td>\n",
        "<td> \"Hello\".isalpha() → True</td>\n",
        "</tr>\n",
        "<tr>\n",
        "<td>isdigit()</td>\n",
        "<td>Checks if all characters are digits (0-9).</td>\n",
        "<td> \"123\".isdigit() → True</td>\n",
        "</tr>\n",
        "<tr>\n",
        "<td>isalnum()</td>\n",
        "<td>Checks if all characters are alphanumeric (letters and digits).</td>\n",
        "<td> \"Hello123\".isalnum() → True</td>\n",
        "</tr>\n",
        "<tr>\n",
        "<td>islower()</td>\n",
        "<td>Checks if all characters are lowercase.</td>\n",
        "<td> \"hello\".islower() → True</td>\n",
        "</tr>\n",
        "<tr>\n",
        "<td>isupper()</td>\n",
        "<td>Checks if all characters are uppercase.</td>\n",
        "<td> \"HELLO\".isupper() → True</td>\n",
        "</tr>\n",
        "<tr>\n",
        "<td>isspace()</td>\n",
        "<td>Checks if the string contains only spaces.</td>\n",
        "<td> \" \".isspace() → True</td>\n",
        "</tr>\n",
        "\n",
        "<td>istitle()</td>\n",
        "<td>Checks if the string is title-cased (first letter capitalized).</td>\n",
        "<td>\"Hello World\".istitle() → True</td>\n",
        "</tr>\n",
        "<td>isnumeric()</td>\n",
        "<td>Checks if the string contains only numeric characters (including superscripts/subscripts, not just 0-9).</td>\n",
        "<td> \"½\".isnumeric() → True </td>\n",
        "</tr>\n",
        "\n",
        "<td>isdecimal()</td>\n",
        "<td>Checks if the string contains only decimal digits (0-9).</td>\n",
        "<td> \"123\".isdecimal() → True</td>\n",
        "</tr>\n",
        "</table>"
      ],
      "metadata": {
        "id": "7TY9BGBBZ311"
      }
    },
    {
      "cell_type": "code",
      "source": [
        "# is method\n",
        "'1'.isdigit()"
      ],
      "metadata": {
        "id": "tRtHWow47g0w",
        "colab": {
          "base_uri": "https://localhost:8080/"
        },
        "outputId": "04bfa2b5-f13a-4489-a57c-f464d15ab85a"
      },
      "execution_count": null,
      "outputs": [
        {
          "output_type": "execute_result",
          "data": {
            "text/plain": [
              "True"
            ]
          },
          "metadata": {},
          "execution_count": 52
        }
      ]
    },
    {
      "cell_type": "markdown",
      "source": [
        "# Python statement"
      ],
      "metadata": {
        "id": "coJX-iUgz2hr"
      }
    },
    {
      "cell_type": "markdown",
      "source": [
        "*  Python statement ends with a colon\n",
        "*  Indentation (white space) describea what takes place of the statement."
      ],
      "metadata": {
        "id": "thpVbORoLGmv"
      }
    },
    {
      "cell_type": "markdown",
      "source": [
        "## if, elif, else statement"
      ],
      "metadata": {
        "id": "nEj78BUpQBri"
      }
    },
    {
      "cell_type": "code",
      "source": [
        "#if condition 1:\n",
        "    #action 1\n",
        "#elif condition 2:\n",
        "    #action2\n",
        "#else:\n",
        "    #action3\n",
        "\n",
        "if 1==1:\n",
        "  print('1=1 is True')\n",
        "\n",
        "\n",
        "x = True\n",
        "if x:\n",
        "    print('x is True!')\n",
        "else:\n",
        "    print('x is not True')"
      ],
      "metadata": {
        "colab": {
          "base_uri": "https://localhost:8080/"
        },
        "id": "QI6BSNBCMPKw",
        "outputId": "be15343a-aa2a-4fd1-f905-440978a2e948"
      },
      "execution_count": null,
      "outputs": [
        {
          "output_type": "stream",
          "name": "stdout",
          "text": [
            "1=1 is True\n",
            "x is True!\n"
          ]
        }
      ]
    },
    {
      "cell_type": "code",
      "source": [
        "from datetime import date\n",
        "user_input = input(\"Enter your name: \")\n",
        "if user_input == 'Sammy':\n",
        "    print('Welcome Sammy!')\n",
        "elif user_input =='George':\n",
        "    print('Welcome George!')\n",
        "else:\n",
        "    print('Welcome to Python bootcamp, ' + user_input, '. Today is ', date.today())\n"
      ],
      "metadata": {
        "colab": {
          "base_uri": "https://localhost:8080/"
        },
        "id": "o514fP7xMPG4",
        "outputId": "8ed1afa3-59ab-4980-baa7-043f84abc3f9"
      },
      "execution_count": null,
      "outputs": [
        {
          "output_type": "stream",
          "name": "stdout",
          "text": [
            "Enter your name: Syed\n",
            "Welcome to Python bootcamp, Syed . Today is  2025-03-22\n"
          ]
        }
      ]
    },
    {
      "cell_type": "markdown",
      "source": [
        "## for loop"
      ],
      "metadata": {
        "id": "Tp9NiGmzQIms"
      }
    },
    {
      "cell_type": "code",
      "source": [
        "# for loop goes through items in sequence\n",
        "#for item in object:\n",
        "    #action\n",
        "my_list = [0,1,2,3,4]\n",
        "for i in my_list:\n",
        "  print(i)\n",
        "\n",
        "for i in range(5): # range(5) = range(0,5) = [0,1,2,3,4]; range(start, stop, step); test [i for i in range(5,10,1)]\n",
        "  print(i)\n",
        "\n",
        "for i in 'string': # string\n",
        "    print(i)\n",
        "\n",
        "for i in ['This', 'is','a', 'string']: # list; ('This', 'is','a', 'string') tuple\n",
        "    print(i)"
      ],
      "metadata": {
        "colab": {
          "base_uri": "https://localhost:8080/"
        },
        "id": "cTIVQ93JMPDY",
        "outputId": "524c532b-eb24-4fc4-c8cb-c9227621c058"
      },
      "execution_count": null,
      "outputs": [
        {
          "output_type": "stream",
          "name": "stdout",
          "text": [
            "0\n",
            "1\n",
            "2\n",
            "3\n",
            "4\n",
            "0\n",
            "1\n",
            "2\n",
            "3\n",
            "4\n",
            "s\n",
            "t\n",
            "r\n",
            "i\n",
            "n\n",
            "g\n",
            "This\n",
            "is\n",
            "a\n",
            "string\n"
          ]
        }
      ]
    },
    {
      "cell_type": "code",
      "source": [
        "for i in range(10):\n",
        "    if i % 2 == 0:\n",
        "        print(i, 'is even number')\n",
        "    else:\n",
        "        print(i, 'is odd number')"
      ],
      "metadata": {
        "colab": {
          "base_uri": "https://localhost:8080/"
        },
        "id": "JM8ApnoJMPAQ",
        "outputId": "a7989c12-0cb1-403d-a5cf-1c4689c3e7e7"
      },
      "execution_count": null,
      "outputs": [
        {
          "output_type": "stream",
          "name": "stdout",
          "text": [
            "0 is even number\n",
            "1 is odd number\n",
            "2 is even number\n",
            "3 is odd number\n",
            "4 is even number\n",
            "5 is odd number\n",
            "6 is even number\n",
            "7 is odd number\n",
            "8 is even number\n",
            "9 is odd number\n"
          ]
        }
      ]
    },
    {
      "cell_type": "code",
      "source": [
        "# Start sum at zero\n",
        "k = 0\n",
        "for i in range(10):\n",
        "    k += i # same as k = k + i\n",
        "print(k)"
      ],
      "metadata": {
        "colab": {
          "base_uri": "https://localhost:8080/"
        },
        "id": "CFIlFD2XMO8A",
        "outputId": "98264f2e-7925-41b8-8e5c-311c40546b8f"
      },
      "execution_count": null,
      "outputs": [
        {
          "output_type": "stream",
          "name": "stdout",
          "text": [
            "45\n"
          ]
        }
      ]
    },
    {
      "cell_type": "code",
      "source": [
        "my_list = [(1,4),(2,5),(3,16)]\n",
        "for (t1,t2) in my_list:\n",
        "    print(t1)\n",
        "\n",
        "my_dict = {'c1':10,'c2':20,'c3':30}\n",
        "for item in my_dict:\n",
        "    print(item)\n",
        "    print(my_dict['c1'])\n"
      ],
      "metadata": {
        "colab": {
          "base_uri": "https://localhost:8080/"
        },
        "id": "YgSpc4edMO3w",
        "outputId": "a6e8d2ed-7b2f-49ea-9b43-fa2f665e8d52"
      },
      "execution_count": null,
      "outputs": [
        {
          "output_type": "stream",
          "name": "stdout",
          "text": [
            "1\n",
            "2\n",
            "3\n",
            "c1\n",
            "10\n",
            "c2\n",
            "10\n",
            "c3\n",
            "10\n"
          ]
        }
      ]
    },
    {
      "cell_type": "code",
      "source": [
        "my_dict = {'c1':10,'c2':20,'c3':30}\n",
        "#my_dict.items() # Dictionary methods: .keys(), .values() and .items()\n",
        "for k,v in my_dict.items():\n",
        "    print(k)\n",
        "    print(v)\n",
        "    print(k,v)"
      ],
      "metadata": {
        "colab": {
          "base_uri": "https://localhost:8080/"
        },
        "id": "vmeu7b3iMO0A",
        "outputId": "6d049324-b4dd-486b-b4c5-34318f4858de"
      },
      "execution_count": null,
      "outputs": [
        {
          "output_type": "stream",
          "name": "stdout",
          "text": [
            "c1\n",
            "10\n",
            "c1 10\n",
            "10\n",
            "c2\n",
            "20\n",
            "c2 20\n",
            "20\n",
            "c3\n",
            "30\n",
            "c3 30\n",
            "30\n"
          ]
        }
      ]
    },
    {
      "cell_type": "markdown",
      "source": [
        "## while loop"
      ],
      "metadata": {
        "id": "uGk1zv36gPwq"
      }
    },
    {
      "cell_type": "code",
      "source": [
        "# while statement repeatedly execute the same statement while the condition is true\n",
        "# while condition:\n",
        "    #action 1\n",
        "#else:\n",
        "    #action 2\n",
        "i = 0\n",
        "\n",
        "while i < 5:\n",
        "    print('i = ',i)\n",
        "    print('i is still < 10, adding 1 to i')\n",
        "    i+=1\n",
        "else:\n",
        "    print('All Done!')"
      ],
      "metadata": {
        "colab": {
          "base_uri": "https://localhost:8080/"
        },
        "id": "NOSWrWfoMOwI",
        "outputId": "a63f2836-1f70-4f25-c9b6-a269f7fe5da7"
      },
      "execution_count": null,
      "outputs": [
        {
          "output_type": "stream",
          "name": "stdout",
          "text": [
            "i =  0\n",
            "i is still < 10, adding 1 to i\n",
            "i =  1\n",
            "i is still < 10, adding 1 to i\n",
            "i =  2\n",
            "i is still < 10, adding 1 to i\n",
            "i =  3\n",
            "i is still < 10, adding 1 to i\n",
            "i =  4\n",
            "i is still < 10, adding 1 to i\n",
            "All Done!\n"
          ]
        }
      ]
    },
    {
      "cell_type": "code",
      "source": [
        "# We can use break, continue, and pass statement in the loops to add additional functionality.\n",
        "# break: breaks out of the current closest enclosing loop\n",
        "# continue: goes to the beginning of the closest enclosing loop\n",
        "# pass: does nothing at all, jump to the next step\n",
        "i = 0\n",
        "\n",
        "while i < 5:\n",
        "    print('i = ',i)\n",
        "    print('i is still < 10, adding 1 to i')\n",
        "    i+=1\n",
        "    if i==3:\n",
        "        print('i==3')\n",
        "    else:\n",
        "        print('continuing...')\n",
        "        continue"
      ],
      "metadata": {
        "colab": {
          "base_uri": "https://localhost:8080/"
        },
        "id": "jYgCuRAnMOsY",
        "outputId": "5746f07c-50cd-4dd0-bf13-ec2f45db600c"
      },
      "execution_count": null,
      "outputs": [
        {
          "output_type": "stream",
          "name": "stdout",
          "text": [
            "i =  0\n",
            "i is still < 10, adding 1 to i\n",
            "continuing...\n",
            "i =  1\n",
            "i is still < 10, adding 1 to i\n",
            "continuing...\n",
            "i =  2\n",
            "i is still < 10, adding 1 to i\n",
            "i==3\n",
            "i =  3\n",
            "i is still < 10, adding 1 to i\n",
            "continuing...\n",
            "i =  4\n",
            "i is still < 10, adding 1 to i\n",
            "continuing...\n"
          ]
        }
      ]
    },
    {
      "cell_type": "code",
      "source": [
        "i = 0\n",
        "\n",
        "while i < 5:\n",
        "    print('i = ',i)\n",
        "    print('i is still < 10, adding 1 to i')\n",
        "    i+=1\n",
        "    if i==3:\n",
        "        print('Breaking because i==3')\n",
        "        break\n",
        "    else:\n",
        "        print('continuing...')\n",
        "        continue"
      ],
      "metadata": {
        "colab": {
          "base_uri": "https://localhost:8080/"
        },
        "id": "FF0FX59iMOi5",
        "outputId": "6cb0be04-00fc-4949-ee6e-6fb41948b4aa"
      },
      "execution_count": null,
      "outputs": [
        {
          "output_type": "stream",
          "name": "stdout",
          "text": [
            "i =  0\n",
            "i is still < 10, adding 1 to i\n",
            "continuing...\n",
            "i =  1\n",
            "i is still < 10, adding 1 to i\n",
            "continuing...\n",
            "i =  2\n",
            "i is still < 10, adding 1 to i\n",
            "Breaking because i==3\n"
          ]
        }
      ]
    },
    {
      "cell_type": "code",
      "source": [
        "i = 0\n",
        "\n",
        "while i < 5:\n",
        "    print('i = ',i)\n",
        "    print('i is still < 10, adding 1 to i')\n",
        "    i+=1\n",
        "    if i==3:\n",
        "        print('Pass because i==3')\n",
        "        pass\n",
        "    else:\n",
        "        print('continuing...')\n",
        "        continue"
      ],
      "metadata": {
        "colab": {
          "base_uri": "https://localhost:8080/"
        },
        "id": "Z4zRH_ie08YI",
        "outputId": "3e3dce0d-6c38-4a54-9819-44a6db2728cf"
      },
      "execution_count": null,
      "outputs": [
        {
          "output_type": "stream",
          "name": "stdout",
          "text": [
            "i =  0\n",
            "i is still < 10, adding 1 to i\n",
            "continuing...\n",
            "i =  1\n",
            "i is still < 10, adding 1 to i\n",
            "continuing...\n",
            "i =  2\n",
            "i is still < 10, adding 1 to i\n",
            "Pass because i==3\n",
            "i =  3\n",
            "i is still < 10, adding 1 to i\n",
            "continuing...\n",
            "i =  4\n",
            "i is still < 10, adding 1 to i\n",
            "continuing...\n"
          ]
        }
      ]
    },
    {
      "cell_type": "markdown",
      "source": [
        "## Other popular operators"
      ],
      "metadata": {
        "id": "q_e_lfMR37YC"
      }
    },
    {
      "cell_type": "code",
      "source": [
        "# range: generate a list of integers,  need to cast it to a list with list()\n",
        "range(0,5)\n",
        "list(range(0,5))\n",
        "list(range(0,11,2)) # range(start, stop, step)"
      ],
      "metadata": {
        "colab": {
          "base_uri": "https://localhost:8080/"
        },
        "id": "xAarNalB08Uw",
        "outputId": "51b8db62-ac33-4e51-ebc9-62cc51cd9216"
      },
      "execution_count": null,
      "outputs": [
        {
          "output_type": "execute_result",
          "data": {
            "text/plain": [
              "[0, 1, 2, 3, 4]"
            ]
          },
          "metadata": {},
          "execution_count": 63
        }
      ]
    },
    {
      "cell_type": "code",
      "source": [
        "list(enumerate('abcd'))"
      ],
      "metadata": {
        "colab": {
          "base_uri": "https://localhost:8080/"
        },
        "id": "gyREtpZs7DmP",
        "outputId": "8bd4ef54-2c0f-40ee-ace5-b58de1bbacd4"
      },
      "execution_count": null,
      "outputs": [
        {
          "output_type": "execute_result",
          "data": {
            "text/plain": [
              "[(0, 'a'), (1, 'b'), (2, 'c'), (3, 'd')]"
            ]
          },
          "metadata": {},
          "execution_count": 67
        }
      ]
    },
    {
      "cell_type": "code",
      "source": [
        "# enumerate\n",
        "for i,letter in enumerate('abcd'):\n",
        "    print(\"At index {} the letter is {}\".format(i,letter))\n"
      ],
      "metadata": {
        "colab": {
          "base_uri": "https://localhost:8080/"
        },
        "id": "yxtY4Vi308RJ",
        "outputId": "514f0557-ed8b-4f95-dd70-d4da4812fd32"
      },
      "execution_count": null,
      "outputs": [
        {
          "output_type": "stream",
          "name": "stdout",
          "text": [
            "At index 0 the letter is a\n",
            "At index 1 the letter is b\n",
            "At index 2 the letter is c\n",
            "At index 3 the letter is d\n"
          ]
        }
      ]
    },
    {
      "cell_type": "code",
      "source": [
        "# zip\n",
        "mylist1 = [1,2,3,4]\n",
        "mylist2 = ['a','b','c','d']\n",
        "zip(mylist1,mylist2)\n",
        "list(zip(mylist1,mylist2))"
      ],
      "metadata": {
        "colab": {
          "base_uri": "https://localhost:8080/"
        },
        "id": "8V2HBWEf08N5",
        "outputId": "2d264e07-5762-4d2f-dfd4-8da90e330d87"
      },
      "execution_count": null,
      "outputs": [
        {
          "output_type": "execute_result",
          "data": {
            "text/plain": [
              "[(1, 'a'), (2, 'b'), (3, 'c'), (4, 'd')]"
            ]
          },
          "metadata": {},
          "execution_count": 68
        }
      ]
    },
    {
      "cell_type": "code",
      "source": [
        "from random import randint\n",
        "# Return random integer between [a, b], including both end points.\n",
        "randint(0,100)"
      ],
      "metadata": {
        "colab": {
          "base_uri": "https://localhost:8080/"
        },
        "id": "UqKAaRuj08J6",
        "outputId": "5fe6246b-169e-4f60-cfe8-9ac23eeb8065"
      },
      "execution_count": null,
      "outputs": [
        {
          "output_type": "execute_result",
          "data": {
            "text/plain": [
              "24"
            ]
          },
          "metadata": {},
          "execution_count": 72
        }
      ]
    },
    {
      "cell_type": "markdown",
      "source": [
        "# Python method and function"
      ],
      "metadata": {
        "id": "QHrXWfytoSeK"
      }
    },
    {
      "cell_type": "markdown",
      "source": [
        "## Method"
      ],
      "metadata": {
        "id": "whNMo0iNv5dr"
      }
    },
    {
      "cell_type": "code",
      "source": [
        "# method is action built into object. Method can take argument and perform specific actions on an object\n",
        "# object.method(arg1,arg2,etc...)\n",
        "# Methods for the list: append(), extend(), insert(), remove(), pop(), clear(), index(), count(), sort(), reverse(), copy()\n",
        "\n",
        "# Create a list\n",
        "my_list = [1,2,3,4]\n",
        "# To find all the methods available for a Python list, you can use the dir() function and filter out special methods if needed.run line below to get all methods for list object\n",
        "# [method for method in dir(my_list) if callable(getattr(my_list, method)) and not method.startswith(\"__\")]\n",
        "# help(my_list) or help(my_list.count) to get class and method information to the list object\n",
        "\n",
        "my_list.append('a') # append() add elements to the end of a list\n",
        "my_list.count('a') # count() count occurrence number of an element\n",
        "my_list\n",
        "\n"
      ],
      "metadata": {
        "id": "eAl2uw3d08Fo",
        "colab": {
          "base_uri": "https://localhost:8080/"
        },
        "outputId": "ca930f73-b645-4745-8ac0-06b2981bb22a"
      },
      "execution_count": null,
      "outputs": [
        {
          "output_type": "execute_result",
          "data": {
            "text/plain": [
              "[1, 2, 3, 4, 'a']"
            ]
          },
          "metadata": {},
          "execution_count": 4
        }
      ]
    },
    {
      "cell_type": "markdown",
      "source": [
        "## Function"
      ],
      "metadata": {
        "id": "1vPqfBQnvvSD"
      }
    },
    {
      "cell_type": "code",
      "source": [
        "# Function is group of statements and actions that be run when needed, which save time on repeatedly writing the same code again and again\n",
        "# Function can import parameters\n",
        "# Example\n",
        "def my_fun(i): # Define function name\n",
        "    return i*2 # Load the input parameter i, multiply by 2 and output\n",
        "my_fun(2)"
      ],
      "metadata": {
        "colab": {
          "base_uri": "https://localhost:8080/"
        },
        "id": "y3dBC4v9q4_J",
        "outputId": "b4e2dd8b-0a51-4bb1-f5a9-0d8eb41c07bb"
      },
      "execution_count": null,
      "outputs": [
        {
          "output_type": "execute_result",
          "data": {
            "text/plain": [
              "4"
            ]
          },
          "metadata": {},
          "execution_count": 13
        }
      ]
    },
    {
      "cell_type": "code",
      "source": [
        "# Start with def then a space followed by the name of the function, end with :(colon)\n",
        "# Don't use the same name as a built-in function in Python (see: https://docs.python.org/3/library/functions.html)\n",
        "# Argument(s) are the input(s) for the function\n",
        "# Indent to the begin the code inside function\n",
        "def name_of_function(arg1,arg2):\n",
        "    '''\n",
        "    This is where the function's Document String (docstring) exists.\n",
        "    When you call help() on your function it will be printed out.\n",
        "\n",
        "    \"\"\"\n",
        "    This is an example of Google style.\n",
        "\n",
        "    Args:\n",
        "        param1: This is the first param.\n",
        "        param2: This is a second param.\n",
        "\n",
        "    Returns:\n",
        "        This is a description of what is returned.\n",
        "\n",
        "    Raises:\n",
        "        KeyError: Raises an exception.\n",
        "    \"\"\"\n",
        "\n",
        "    '''\n",
        "    # Statements here\n",
        "    # Return desired result"
      ],
      "metadata": {
        "id": "eKiNb9Ixq445"
      },
      "execution_count": null,
      "outputs": []
    },
    {
      "cell_type": "code",
      "source": [
        "# Function without parameter\n",
        "def welcome ():\n",
        "    print('hello, welcome to Python bootcamp')\n",
        "welcome()"
      ],
      "metadata": {
        "colab": {
          "base_uri": "https://localhost:8080/"
        },
        "id": "_Hvb8RfLq41M",
        "outputId": "7e58ead9-d79f-4190-cf12-f2ab99b0a5a9"
      },
      "execution_count": null,
      "outputs": [
        {
          "output_type": "stream",
          "name": "stdout",
          "text": [
            "hello, welcome to Python bootcamp\n"
          ]
        }
      ]
    },
    {
      "cell_type": "code",
      "source": [
        "# Function with parameter\n",
        "def welcome (your_name):\n",
        "    print('hello {}, welcome to Python bootcamp'.format(your_name))\n",
        "welcome('Jack')"
      ],
      "metadata": {
        "colab": {
          "base_uri": "https://localhost:8080/"
        },
        "id": "JJPDw38fq4xz",
        "outputId": "d7567423-8c0d-4bef-d001-28962379615b"
      },
      "execution_count": null,
      "outputs": [
        {
          "output_type": "stream",
          "name": "stdout",
          "text": [
            "hello Jack, welcome to Python bootcamp\n"
          ]
        }
      ]
    },
    {
      "cell_type": "code",
      "source": [
        "# Function with parameter\n",
        "# return: save the result of the output as a variable.\n",
        "# print(): displays the output to you, not save it for future use\n",
        "def add_num (num1,num2):\n",
        "    return num1 * num2\n",
        "\n",
        "i = add_num(2,3)\n",
        "i"
      ],
      "metadata": {
        "colab": {
          "base_uri": "https://localhost:8080/"
        },
        "id": "PsCk_JWVq4uL",
        "outputId": "e282b124-d2e0-40d8-c6a5-5bfd0a5f095e"
      },
      "execution_count": null,
      "outputs": [
        {
          "output_type": "execute_result",
          "data": {
            "text/plain": [
              "6"
            ]
          },
          "metadata": {},
          "execution_count": 17
        }
      ]
    },
    {
      "cell_type": "code",
      "source": [
        "paylist = [('Albert',100),('Bob',200),('Cassie',4000)]\n",
        "def copay_check (fy, pay):\n",
        "\n",
        "    # Set out-of-pocket\n",
        "    out_of_pocket = 2000\n",
        "    # Set some empty value before the loop\n",
        "    Fiscal_year = fy\n",
        "\n",
        "    for pt,p in pay:\n",
        "        if p > out_of_pocket:\n",
        "            pt_name = pt\n",
        "            payment = p\n",
        "        else:\n",
        "            pass\n",
        "\n",
        "    # Notice the indentation here\n",
        "    print (pt_name, ' paid ',payment, ' in ',  Fiscal_year, 'which is over the limit of out-of-pocket')\n",
        "    return (pt_name,payment)\n",
        "\n",
        "\n",
        "copay_check ('2025', paylist)"
      ],
      "metadata": {
        "colab": {
          "base_uri": "https://localhost:8080/"
        },
        "id": "cY_sVPQKq4qg",
        "outputId": "8709d759-7483-46b3-dd45-9cca994e6e40"
      },
      "execution_count": null,
      "outputs": [
        {
          "output_type": "stream",
          "name": "stdout",
          "text": [
            "Cassie  paid  4000  in  2025 which is over the limit of out-of-pocket\n"
          ]
        },
        {
          "output_type": "execute_result",
          "data": {
            "text/plain": [
              "('Cassie', 4000)"
            ]
          },
          "metadata": {},
          "execution_count": 29
        }
      ]
    },
    {
      "cell_type": "markdown",
      "source": [
        "## Useful functions and modules: map, filter, lambda, reduce"
      ],
      "metadata": {
        "id": "pdVVNr4-qMso"
      }
    },
    {
      "cell_type": "code",
      "source": [
        "# map: call the same function to every item\n",
        "def square (num):\n",
        "    return num**2\n",
        "\n",
        "i = [1,2,3,4,5]\n",
        "list(map(square, i))"
      ],
      "metadata": {
        "colab": {
          "base_uri": "https://localhost:8080/"
        },
        "id": "DXY39HDROnK6",
        "outputId": "a0e739d4-1d82-4f95-fe93-4fddcc25c81a"
      },
      "execution_count": null,
      "outputs": [
        {
          "output_type": "execute_result",
          "data": {
            "text/plain": [
              "[1, 4, 9, 16, 25]"
            ]
          },
          "metadata": {},
          "execution_count": 37
        }
      ]
    },
    {
      "cell_type": "code",
      "source": [],
      "metadata": {
        "id": "qNaxPm1NuGCW"
      },
      "execution_count": null,
      "outputs": []
    },
    {
      "cell_type": "code",
      "source": [
        "# filter: call a function and return only items that is True\n",
        "def check_odd (num):\n",
        "    return num % 2 == 1\n",
        "\n",
        "i = [1,2,3,4,5,6]\n",
        "list(filter(check_odd, i))"
      ],
      "metadata": {
        "colab": {
          "base_uri": "https://localhost:8080/"
        },
        "id": "FFs27lcbOnAq",
        "outputId": "2618a7e6-ebdf-4e4a-96b2-39cd9ca586c2"
      },
      "execution_count": null,
      "outputs": [
        {
          "output_type": "execute_result",
          "data": {
            "text/plain": [
              "[1, 3, 5]"
            ]
          },
          "metadata": {},
          "execution_count": 40
        }
      ]
    },
    {
      "cell_type": "code",
      "source": [
        "# lambda creates \"anonymous\" functions when use this function you once, instead of formally defining it,\n",
        "i = [1,2,3,4,5]\n",
        "def square (num):\n",
        "    return num**2\n",
        "\n",
        "lambda num: num ** 2"
      ],
      "metadata": {
        "id": "97Mt89K7Om6C"
      },
      "execution_count": null,
      "outputs": []
    },
    {
      "cell_type": "code",
      "source": [
        "list(map(lambda num: num ** 2, i))"
      ],
      "metadata": {
        "colab": {
          "base_uri": "https://localhost:8080/"
        },
        "id": "77NPPS1pOmyz",
        "outputId": "722e48b4-c8a6-47d1-938f-e5f6fd3888c6"
      },
      "execution_count": null,
      "outputs": [
        {
          "output_type": "execute_result",
          "data": {
            "text/plain": [
              "[1, 4, 9, 16, 25, 36]"
            ]
          },
          "metadata": {},
          "execution_count": 41
        }
      ]
    },
    {
      "cell_type": "code",
      "source": [
        "list(filter(lambda n: n % 2 == 1,i))"
      ],
      "metadata": {
        "colab": {
          "base_uri": "https://localhost:8080/"
        },
        "id": "ULIvLwVCOmuq",
        "outputId": "4a5daf97-7dd1-4cf6-beda-031469c32758"
      },
      "execution_count": null,
      "outputs": [
        {
          "output_type": "execute_result",
          "data": {
            "text/plain": [
              "[1, 3, 5]"
            ]
          },
          "metadata": {},
          "execution_count": 42
        }
      ]
    },
    {
      "cell_type": "code",
      "source": [
        "# Reduce: applies function in sequence\n",
        "# For example 1+2+3+4+5: step 1: 3+3+4+5; step 2: 6+4+5; step 3: 10 + 5; step 4: 15\n",
        "\n",
        "from functools import reduce\n",
        "\n",
        "lst =[1,2,3,4,5]\n",
        "reduce(lambda x,y: x+y,lst)"
      ],
      "metadata": {
        "colab": {
          "base_uri": "https://localhost:8080/"
        },
        "id": "wkCZfvBAualF",
        "outputId": "3eb256db-7473-46dd-d9af-2aeb8e507b68"
      },
      "execution_count": null,
      "outputs": [
        {
          "output_type": "execute_result",
          "data": {
            "text/plain": [
              "15"
            ]
          },
          "metadata": {},
          "execution_count": 38
        }
      ]
    },
    {
      "cell_type": "code",
      "source": [
        "# Find the maximum of the list\n",
        "reduce(lambda x,y: x if (x > y) else y,lst)"
      ],
      "metadata": {
        "colab": {
          "base_uri": "https://localhost:8080/"
        },
        "id": "bOvk-j7B0gXX",
        "outputId": "446f977e-6668-41cf-e4a3-7d2a6a42204f"
      },
      "execution_count": null,
      "outputs": [
        {
          "output_type": "execute_result",
          "data": {
            "text/plain": [
              "5"
            ]
          },
          "metadata": {},
          "execution_count": 44
        }
      ]
    },
    {
      "cell_type": "code",
      "source": [
        "# Counter - a collections Module belonging to a dict subclass which helps count items as dictionary keys and the counts of the objects are stored as the value\n",
        "from collections import Counter\n",
        "my_list = [12,23,23,22,21,31,33,33, 'A',1,2, 'A',1,12, 'A',3,2,'a',32,1,21,1,223,1]\n",
        "Counter(my_list )"
      ],
      "metadata": {
        "colab": {
          "base_uri": "https://localhost:8080/"
        },
        "id": "kJTdy_dm3S7s",
        "outputId": "ffce5ad6-4bf1-488f-ddc4-f7efa3cd880c"
      },
      "execution_count": null,
      "outputs": [
        {
          "output_type": "execute_result",
          "data": {
            "text/plain": [
              "Counter({12: 2,\n",
              "         23: 2,\n",
              "         22: 1,\n",
              "         21: 2,\n",
              "         31: 1,\n",
              "         33: 2,\n",
              "         'A': 3,\n",
              "         1: 5,\n",
              "         2: 2,\n",
              "         3: 1,\n",
              "         'a': 1,\n",
              "         32: 1,\n",
              "         223: 1})"
            ]
          },
          "metadata": {},
          "execution_count": 3
        }
      ]
    },
    {
      "cell_type": "code",
      "source": [
        "my_list ='This article explains the new features in Python 3.13, compared to Python 3.12'\n",
        "w = Counter(my_list.split())\n",
        "w"
      ],
      "metadata": {
        "colab": {
          "base_uri": "https://localhost:8080/"
        },
        "id": "b0bGBlji3S3M",
        "outputId": "c3c207d9-46ba-4843-f3a8-a9b9a9aa324b"
      },
      "execution_count": null,
      "outputs": [
        {
          "output_type": "execute_result",
          "data": {
            "text/plain": [
              "Counter({'This': 1,\n",
              "         'article': 1,\n",
              "         'explains': 1,\n",
              "         'the': 1,\n",
              "         'new': 1,\n",
              "         'features': 1,\n",
              "         'in': 1,\n",
              "         'Python': 2,\n",
              "         '3.13,': 1,\n",
              "         'compared': 1,\n",
              "         'to': 1,\n",
              "         '3.12': 1})"
            ]
          },
          "metadata": {},
          "execution_count": 7
        }
      ]
    },
    {
      "cell_type": "markdown",
      "source": [
        "Common patterns when using the Counter() object  \n",
        "sum(c.values()) ----------------# total of all counts  \n",
        "c.clear()---------------------------# reset all counts  \n",
        "list(c)------------------------------ # list unique elements  \n",
        "set(c)-------------------------- --- # convert to a set  \n",
        "dict(c)---------------------------- # convert to a regular dictionary  \n",
        "c.items()------------------------ # convert to a list of (elem, cnt) pairs  \n",
        "Counter(dict(list_of_pairs))--------# convert from a list of (elem, cnt) pairs  \n",
        "c.most_common()[:-n-1:-1]---------# n least common elements  \n",
        "c += Counter()----------------------------# remove zero and negative counts  "
      ],
      "metadata": {
        "id": "rrQ-UbIl-GJP"
      }
    },
    {
      "cell_type": "code",
      "source": [
        "# Methods with Counter()\n",
        "c = Counter(w)\n",
        "c.most_common(2)"
      ],
      "metadata": {
        "colab": {
          "base_uri": "https://localhost:8080/"
        },
        "id": "2qQ0XAfO3Syt",
        "outputId": "4bb1bb20-101e-4a0c-c4bc-9cd96801c18a"
      },
      "execution_count": null,
      "outputs": [
        {
          "output_type": "execute_result",
          "data": {
            "text/plain": [
              "[('Python', 2), ('This', 1)]"
            ]
          },
          "metadata": {},
          "execution_count": 8
        }
      ]
    },
    {
      "cell_type": "code",
      "source": [
        "# defaultdict is a dictionary-like object which provides all methods provided by a dictionary but takes a first argument as a default data type for the dictionary.\n",
        "from collections import defaultdict\n",
        "# namedtuple assigns names, as well as the numerical index, to each member.\n",
        "from collections import namedtuple"
      ],
      "metadata": {
        "colab": {
          "base_uri": "https://localhost:8080/"
        },
        "id": "I8eqeTqe3SuV",
        "outputId": "58cf381c-67c2-461d-943e-580c40247684"
      },
      "execution_count": null,
      "outputs": [
        {
          "output_type": "execute_result",
          "data": {
            "text/plain": [
              "['This',\n",
              " 'article',\n",
              " 'explains',\n",
              " 'the',\n",
              " 'new',\n",
              " 'features',\n",
              " 'in',\n",
              " 'Python',\n",
              " '3.13,',\n",
              " 'compared',\n",
              " 'to',\n",
              " '3.12']"
            ]
          },
          "metadata": {},
          "execution_count": 9
        }
      ]
    },
    {
      "cell_type": "markdown",
      "source": [
        "## Nested Statements and Scope"
      ],
      "metadata": {
        "id": "sTZPVSei5xgj"
      }
    },
    {
      "cell_type": "markdown",
      "source": [
        "In Python, scope refers to the region of a program where a variable is accessible. Python follows the LEGB rule to determine variable scope:\n",
        "\n",
        "LEGB Rule (Scope Resolution Order):\n",
        "* L (Local Scope) - Inside a function or method.\n",
        "* E (Enclosing Scope) - Nested functions (non-local).\n",
        "* G (Global Scope) - Defined at the module level.\n",
        "* B (Built-in Scope) - Predefined names in Python (e.g., print, len)."
      ],
      "metadata": {
        "id": "rc6muozz6sNx"
      }
    },
    {
      "cell_type": "code",
      "source": [
        "# From chatgpt\n",
        "x = \"global\"  # Global Scope\n",
        "\n",
        "def outer():\n",
        "    y = \"enclosing\"  # Enclosing Scope\n",
        "\n",
        "    def inner():\n",
        "        z = \"local\"  # Local Scope\n",
        "        print(z)  # Access local variable\n",
        "        print(y)  # Access enclosing variable\n",
        "        print(x)  # Access global variable\n",
        "\n",
        "    inner()\n",
        "\n",
        "outer()"
      ],
      "metadata": {
        "colab": {
          "base_uri": "https://localhost:8080/"
        },
        "id": "TK6pBiSVOmrC",
        "outputId": "4620f913-d8a5-4c77-9625-d2e32c77889e"
      },
      "execution_count": null,
      "outputs": [
        {
          "output_type": "stream",
          "name": "stdout",
          "text": [
            "local\n",
            "enclosing\n",
            "global\n"
          ]
        }
      ]
    },
    {
      "cell_type": "code",
      "source": [
        "x = 500\n",
        "\n",
        "def func(x):\n",
        "    print('global x is', x)\n",
        "    x = 20\n",
        "    print('Changed local x to', x)\n",
        "\n",
        "func(x)\n",
        "print('x is still', x)"
      ],
      "metadata": {
        "colab": {
          "base_uri": "https://localhost:8080/"
        },
        "id": "lsyEwj_iOmmq",
        "outputId": "df4e0b69-4638-421c-b6f5-9bde3d28f0b6"
      },
      "execution_count": null,
      "outputs": [
        {
          "output_type": "stream",
          "name": "stdout",
          "text": [
            "global x is 500\n",
            "Changed local x to 20\n",
            "x is still 500\n"
          ]
        }
      ]
    },
    {
      "cell_type": "markdown",
      "source": [
        "## *args and *kwargs"
      ],
      "metadata": {
        "id": "ArsmDTFb_ZBM"
      }
    },
    {
      "cell_type": "code",
      "source": [
        "# *args (parameter starts with an asterisk,) allows for a number of arguments, and the function takes them in as a tuple of values.\n",
        "def myfunc(a,b,c):\n",
        "    return sum((a,b,c))*.05\n",
        "\n",
        "myfunc(40,50,60)"
      ],
      "metadata": {
        "colab": {
          "base_uri": "https://localhost:8080/"
        },
        "id": "lhLpNNFsOmdS",
        "outputId": "ed82d32f-d110-45fb-aac8-e2b7b5700c36"
      },
      "execution_count": null,
      "outputs": [
        {
          "output_type": "execute_result",
          "data": {
            "text/plain": [
              "7.5"
            ]
          },
          "metadata": {},
          "execution_count": 46
        }
      ]
    },
    {
      "cell_type": "code",
      "source": [
        "def myfunc(*args):\n",
        "    return sum(args)*.05\n",
        "\n",
        "myfunc(40,50,60)"
      ],
      "metadata": {
        "colab": {
          "base_uri": "https://localhost:8080/"
        },
        "id": "wWhnbR_cMxuy",
        "outputId": "36665ffe-8da5-409c-bb31-5eba1dd71c0f"
      },
      "execution_count": null,
      "outputs": [
        {
          "output_type": "execute_result",
          "data": {
            "text/plain": [
              "7.5"
            ]
          },
          "metadata": {},
          "execution_count": 47
        }
      ]
    },
    {
      "cell_type": "code",
      "source": [
        "def myfunc(*mypara):\n",
        "    return sum(mypara)*.05\n",
        "\n",
        "myfunc(40,50,60)"
      ],
      "metadata": {
        "colab": {
          "base_uri": "https://localhost:8080/"
        },
        "id": "eHfVmFFLMxm8",
        "outputId": "09d46278-9ccb-4d09-aaab-c9140492564a"
      },
      "execution_count": null,
      "outputs": [
        {
          "output_type": "execute_result",
          "data": {
            "text/plain": [
              "7.5"
            ]
          },
          "metadata": {},
          "execution_count": 48
        }
      ]
    },
    {
      "cell_type": "code",
      "source": [
        "# **kwargs builds a dictionary of key/value pairs. It collects keyword arguments into a dictionary.You can then access the arguments using dictionary methods."
      ],
      "metadata": {
        "id": "hdMIjI8nMxi6"
      },
      "execution_count": null,
      "outputs": []
    },
    {
      "cell_type": "code",
      "source": [
        "# from chatgpt\n",
        "def greet(**kwargs):\n",
        "    for key, value in kwargs.items():\n",
        "        print(f\"{key}: {value}\")\n",
        "\n",
        "greet(name=\"Alice\", age=25, city=\"New York\")"
      ],
      "metadata": {
        "colab": {
          "base_uri": "https://localhost:8080/"
        },
        "id": "BWJSNC9_MxfM",
        "outputId": "b96f6463-7886-499c-c3b5-70a418b5e75f"
      },
      "execution_count": null,
      "outputs": [
        {
          "output_type": "stream",
          "name": "stdout",
          "text": [
            "name: Alice\n",
            "age: 25\n",
            "city: New York\n"
          ]
        }
      ]
    },
    {
      "cell_type": "code",
      "source": [
        "def show_details(*args, **kwargs):\n",
        "    print(\"Positional arguments:\", args)\n",
        "    print(\"Keyword arguments:\", kwargs)\n",
        "\n",
        "show_details(1, 2, 3, name=\"Alice\", age=25)"
      ],
      "metadata": {
        "colab": {
          "base_uri": "https://localhost:8080/"
        },
        "id": "7Ri1ZzKCMxbS",
        "outputId": "204a8e3b-b993-493e-b2d7-d82f89ebd95b"
      },
      "execution_count": null,
      "outputs": [
        {
          "output_type": "stream",
          "name": "stdout",
          "text": [
            "Positional arguments: (1, 2, 3)\n",
            "Keyword arguments: {'name': 'Alice', 'age': 25}\n"
          ]
        }
      ]
    },
    {
      "cell_type": "markdown",
      "source": [
        "# Object Oriented Programming (OOP)"
      ],
      "metadata": {
        "id": "8fgalYl3i-yN"
      }
    },
    {
      "cell_type": "markdown",
      "source": [
        "* Object: in Python, everything is an object. type() show the object type\n",
        "* Class: Object is created using the class keyword. A class defines a blueprint for creating objects, which are instances of that class\n",
        "* Attribute is a characteristic of an object\n",
        "* Method is an operation we can perform with the object.\n",
        "* Instance: instance is a specific object created from a particular class\n",
        "* Reference: https://www.tutorialspoint.com/python/python_classes_objects.htm"
      ],
      "metadata": {
        "id": "X86oG7aKTxjk"
      }
    },
    {
      "cell_type": "code",
      "source": [
        "# * Example - from chatgpt\n",
        "class Car: # ---------------------------------------------------Class (Car): Defines attributes (brand, model, year) and methods (display_info), starting with a capital letter.\n",
        "    # Class Object Attribute\n",
        "    color = 'white'\n",
        "    def __init__(self, brand, model, year):#--------------------Constructor (__init__): Initializes object attributes when an instance is created.\n",
        "        self.brand = brand #------------------------------------Attribute is a characteristic of an object.\n",
        "        self.model = model\n",
        "        self.year = year\n",
        "\n",
        "    def display_info(self):#------------------------------------Method (display_info): Provides information about the car.\n",
        "        return f\"{self.year} {self.brand} {self.model}\"\n",
        "\n",
        "# Creating objects (instances) of the Car class\n",
        "car1 = Car(\"Toyota\", \"Camry\", 2022)\n",
        "car2 = Car(\"Honda\", \"Civic\", 2023)\n",
        "\n",
        "# Accessing object attributes and methods\n",
        "print(car1.display_info())\n",
        "print(car2.display_info())\n",
        "print(car2.brand) # attribute does not has () since no arguement\n",
        "print(car2.color)"
      ],
      "metadata": {
        "colab": {
          "base_uri": "https://localhost:8080/"
        },
        "id": "4yqgT352NegT",
        "outputId": "0c3c07bf-c60e-4de8-cef3-3392cd4f60f4"
      },
      "execution_count": null,
      "outputs": [
        {
          "output_type": "stream",
          "name": "stdout",
          "text": [
            "2022 Toyota Camry\n",
            "2023 Honda Civic\n",
            "Honda\n",
            "white\n"
          ]
        }
      ]
    },
    {
      "cell_type": "code",
      "source": [
        "class Circle:\n",
        "    pi = 3.14\n",
        "\n",
        "    # Circle gets instantiated with a radius with default as 1)\n",
        "    def __init__(self, radius=1):\n",
        "        self.radius = radius\n",
        "        self.area =Circle.pi * radius**2\n",
        "\n",
        "    # Method for resetting Radius\n",
        "    def setRadius(self, new_radius):\n",
        "        self.radius = new_radius\n",
        "        self.area = self.pi * radius**2\n",
        "\n",
        "    # Method for getting Circumference\n",
        "    def getCircumference(self):\n",
        "        return  2* self.pi *self.radius\n",
        "\n",
        "\n",
        "c = Circle()\n",
        "\n",
        "print('Radius is: ',c.radius)\n",
        "print('Area is: ',c.area)\n",
        "print('Circumference is: ',c.getCircumference())\n",
        "\n",
        "c = Circle(2)\n",
        "\n",
        "print('Radius is: ',c.radius)\n",
        "print('Area is: ',c.area)\n",
        "print('Circumference is: ',c.getCircumference())"
      ],
      "metadata": {
        "colab": {
          "base_uri": "https://localhost:8080/"
        },
        "id": "8vTqWRFXNjKz",
        "outputId": "bd3bdc54-7180-4510-8fa1-a9266344e2e3"
      },
      "execution_count": null,
      "outputs": [
        {
          "output_type": "stream",
          "name": "stdout",
          "text": [
            "Radius is:  1\n",
            "Area is:  3.14\n",
            "Circumference is:  6.28\n",
            "Radius is:  2\n",
            "Area is:  12.56\n",
            "Circumference is:  12.56\n"
          ]
        }
      ]
    },
    {
      "cell_type": "code",
      "source": [
        "# Inheritance is a way to build new classes using pre-defined or existing classes\n",
        "# Parent Class\n",
        "class Vehicle:  #-----------------------------Parent Class (Vehicle): Defines common attributes and methods.\n",
        "    def __init__(self, brand, model, year):\n",
        "        self.brand = brand\n",
        "        self.model = model\n",
        "        self.year = year\n",
        "\n",
        "    def display_info(self):\n",
        "        return f\"{self.year} {self.brand} {self.model}\"\n",
        "\n",
        "# Child Class inheriting from Vehicle\n",
        "class Car(Vehicle):  # ------------------------Child Class (Car): Inherits from Vehicle and extends functionality.\n",
        "    def __init__(self, brand, model, year, doors):\n",
        "        super().__init__(brand, model, year)  # Calling parent class constructor\n",
        "        self.doors = doors\n",
        "\n",
        "    def display_info(self):  # Overriding the parent method\n",
        "        return f\"{self.year} {self.brand} {self.model} with {self.doors} doors\"\n",
        "\n",
        "# Creating an object of the Child Class\n",
        "car1 = Car(\"Toyota\", \"Camry\", 2022, 4)\n",
        "\n",
        "print(car1.display_info())"
      ],
      "metadata": {
        "colab": {
          "base_uri": "https://localhost:8080/"
        },
        "id": "_BM60cX8NjHB",
        "outputId": "e0e79034-f4bb-4bb6-929e-ef1bbf97b948"
      },
      "execution_count": null,
      "outputs": [
        {
          "output_type": "stream",
          "name": "stdout",
          "text": [
            "2022 Toyota Camry with 4 doors\n"
          ]
        }
      ]
    },
    {
      "cell_type": "code",
      "source": [
        "# special method\n",
        "class Car:\n",
        "    def __init__(self, brand, model, year):\n",
        "        print(\"A car is created\")\n",
        "        self.brand = brand\n",
        "        self.model = model\n",
        "        self.year = year\n",
        "\n",
        "    def __str__(self):\n",
        "        return \"Brand: %s, model: %s, year: %s\" %(self.brand, self.model, self.year)\n",
        "\n",
        "    def __len__(self):\n",
        "        return self.year\n",
        "\n",
        "    def __del__(self):\n",
        "        print(\"A car is losted\")"
      ],
      "metadata": {
        "id": "omKtsDMnNjDD"
      },
      "execution_count": null,
      "outputs": []
    },
    {
      "cell_type": "code",
      "source": [
        "book = Car(\"Toyota\", \"Camry\", 2022)\n",
        "#Special Methods\n",
        "print(book)\n",
        "print(len(book))\n",
        "del book\n"
      ],
      "metadata": {
        "colab": {
          "base_uri": "https://localhost:8080/"
        },
        "id": "gPZu5Qz-Ni-6",
        "outputId": "50f5c634-000f-4b6e-9e19-f01ad4c7f347"
      },
      "execution_count": null,
      "outputs": [
        {
          "output_type": "stream",
          "name": "stdout",
          "text": [
            "A car is created\n",
            "Brand: Toyota, model: Camry, year: 2022\n",
            "2022\n",
            "A car is losted\n"
          ]
        }
      ]
    },
    {
      "cell_type": "markdown",
      "source": [
        "# Python modules and packages"
      ],
      "metadata": {
        "id": "FsUG7_EjNfgY"
      }
    },
    {
      "cell_type": "markdown",
      "source": [
        "## datetime"
      ],
      "metadata": {
        "id": "Q_4Ek-nb5V4E"
      }
    },
    {
      "cell_type": "code",
      "source": [
        "# time, create a timestamp by specifying datetime.time(hour,minute,second,microsecond)\n",
        "import datetime\n",
        "\n",
        "t = datetime.time(20, 50, 1)\n",
        "\n",
        "# Let's show the different components\n",
        "print(t)\n",
        "print('hour  :', t.hour)\n",
        "print('minute:', t.minute)\n",
        "print('second:', t.second)\n",
        "print('microsecond:', t.microsecond)\n",
        "print('tzinfo:', t.tzinfo)\n",
        "\n",
        "print('Earliest  :', datetime.time.min)\n",
        "print('Latest    :', datetime.time.max)\n",
        "print('Resolution:', datetime.time.resolution)"
      ],
      "metadata": {
        "colab": {
          "base_uri": "https://localhost:8080/"
        },
        "id": "UNPaJj-764WX",
        "outputId": "67c72d3b-b20d-42d0-bce9-bac2f804b069"
      },
      "execution_count": null,
      "outputs": [
        {
          "output_type": "stream",
          "name": "stdout",
          "text": [
            "20:50:01\n",
            "hour  : 20\n",
            "minute: 50\n",
            "second: 1\n",
            "microsecond: 0\n",
            "tzinfo: None\n",
            "Earliest  : 00:00:00\n",
            "Latest    : 23:59:59.999999\n",
            "Resolution: 0:00:00.000001\n"
          ]
        }
      ]
    },
    {
      "cell_type": "code",
      "source": [
        "# date,  year, month, and day\n",
        "today = datetime.date.today()\n",
        "print(today)\n",
        "print('ctime:', today.ctime())\n",
        "print('tuple:', today.timetuple())\n",
        "print('ordinal:', today.toordinal())\n",
        "print('Year :', today.year)\n",
        "print('Month:', today.month)\n",
        "print('Day  :', today.day)\n",
        "\n",
        "print('Earliest  :', datetime.date.min)\n",
        "print('Latest    :', datetime.date.max)\n",
        "print('Resolution:', datetime.date.resolution)"
      ],
      "metadata": {
        "colab": {
          "base_uri": "https://localhost:8080/"
        },
        "id": "L3h-8xDs64RP",
        "outputId": "fe990307-e088-43f1-d402-b17b45e419d3"
      },
      "execution_count": null,
      "outputs": [
        {
          "output_type": "stream",
          "name": "stdout",
          "text": [
            "2025-03-26\n",
            "ctime: Wed Mar 26 00:00:00 2025\n",
            "tuple: time.struct_time(tm_year=2025, tm_mon=3, tm_mday=26, tm_hour=0, tm_min=0, tm_sec=0, tm_wday=2, tm_yday=85, tm_isdst=-1)\n",
            "ordinal: 739336\n",
            "Year : 2025\n",
            "Month: 3\n",
            "Day  : 26\n",
            "Earliest  : 0001-01-01\n",
            "Latest    : 9999-12-31\n",
            "Resolution: 1 day, 0:00:00\n"
          ]
        }
      ]
    },
    {
      "cell_type": "code",
      "source": [
        "d1 = datetime.date(2025, 3, 25)\n",
        "print('d1:', d1)\n",
        "\n",
        "d2 = d1.replace(year=2026)\n",
        "print('d2:', d2)"
      ],
      "metadata": {
        "colab": {
          "base_uri": "https://localhost:8080/"
        },
        "id": "hCyOGHoy64NO",
        "outputId": "b1b22fe4-b976-49b4-c8af-b42e2d7aa932"
      },
      "execution_count": null,
      "outputs": [
        {
          "output_type": "stream",
          "name": "stdout",
          "text": [
            "d1: 2025-03-25\n",
            "d2: 2026-03-25\n"
          ]
        }
      ]
    },
    {
      "cell_type": "markdown",
      "source": [
        "## math"
      ],
      "metadata": {
        "id": "ldL1zo7ZOLyD"
      }
    },
    {
      "cell_type": "code",
      "source": [
        "# math module: https://docs.python.org/3/library/math.html\n",
        "# random module: https://docs.python.org/3/library/random.html\n",
        "import math\n",
        "#elp(math)"
      ],
      "metadata": {
        "id": "0IwYhv9UOU8m"
      },
      "execution_count": null,
      "outputs": []
    },
    {
      "cell_type": "code",
      "source": [
        "# Mathematical Constants: math.pi, math.e, math.tau, math.inf, math.nan\n",
        "pi = math.pi\n",
        "math.floor(pi)\n",
        "math.ceil(pi)\n",
        "round(pi)\n",
        "\n",
        "# Log Base e\n",
        "math.log(math.e)\n",
        "math.log(10)\n",
        "\n",
        "# math.log(x,base)\n",
        "math.log(100,10)\n",
        "\n",
        "# Radians\n",
        "math.sin(30)\n",
        "math.degrees(pi/2)\n",
        "math.radians(180)"
      ],
      "metadata": {
        "colab": {
          "base_uri": "https://localhost:8080/"
        },
        "id": "vL4lY0unOU3-",
        "outputId": "0506d477-29d7-422b-99d4-e236f0c31650"
      },
      "execution_count": null,
      "outputs": [
        {
          "output_type": "execute_result",
          "data": {
            "text/plain": [
              "3.141592653589793"
            ]
          },
          "metadata": {},
          "execution_count": 26
        }
      ]
    },
    {
      "cell_type": "code",
      "source": [
        "sum(range(100))"
      ],
      "metadata": {
        "colab": {
          "base_uri": "https://localhost:8080/"
        },
        "id": "SmZnOOBCl96K",
        "outputId": "ab4bfc07-6b68-4ff1-9cd7-1604e70f9ee6"
      },
      "execution_count": null,
      "outputs": [
        {
          "output_type": "execute_result",
          "data": {
            "text/plain": [
              "4950"
            ]
          },
          "metadata": {},
          "execution_count": 7
        }
      ]
    },
    {
      "cell_type": "markdown",
      "source": [
        "## random"
      ],
      "metadata": {
        "id": "Y9G-bnoOU68h"
      }
    },
    {
      "cell_type": "code",
      "source": [
        "# Random module creates random numbers with or without a seed\n",
        "\n",
        "import random\n",
        "random.randint(0,100)"
      ],
      "metadata": {
        "colab": {
          "base_uri": "https://localhost:8080/"
        },
        "id": "PNhltII2OU0Q",
        "outputId": "e819eb3d-8645-4ec4-e8ae-2f304ba36c79"
      },
      "execution_count": null,
      "outputs": [
        {
          "output_type": "execute_result",
          "data": {
            "text/plain": [
              "35"
            ]
          },
          "metadata": {},
          "execution_count": 28
        }
      ]
    },
    {
      "cell_type": "code",
      "source": [
        "# Define seed\n",
        "random.seed(4)\n",
        "random.randint(0,100)"
      ],
      "metadata": {
        "colab": {
          "base_uri": "https://localhost:8080/"
        },
        "id": "K6WAfgyVOUwL",
        "outputId": "75fa4b67-91a3-4439-9aad-9792af2937cb"
      },
      "execution_count": null,
      "outputs": [
        {
          "output_type": "execute_result",
          "data": {
            "text/plain": [
              "30"
            ]
          },
          "metadata": {},
          "execution_count": 32
        }
      ]
    },
    {
      "cell_type": "code",
      "source": [
        "mylist = list(range(0,10))\n",
        "random.choice(mylist) # Grab a random item from a list"
      ],
      "metadata": {
        "colab": {
          "base_uri": "https://localhost:8080/"
        },
        "id": "1TIhAGk0OUsM",
        "outputId": "23261a3b-4561-480f-be85-1565e8c707c3"
      },
      "execution_count": null,
      "outputs": [
        {
          "output_type": "execute_result",
          "data": {
            "text/plain": [
              "2"
            ]
          },
          "metadata": {},
          "execution_count": 39
        }
      ]
    },
    {
      "cell_type": "code",
      "source": [
        "# Sample with replacement. Return items back in the source bag before moving to the next run.\n",
        "random.choices(population=mylist,k=10)\n",
        "# Sample without Replacement. Items are not returned to the source bag before moving to the next run.\n",
        "random.sample(population=mylist,k=10)"
      ],
      "metadata": {
        "colab": {
          "base_uri": "https://localhost:8080/"
        },
        "id": "miHXrnXzOUoT",
        "outputId": "d776100f-02f0-465e-8cc4-8477269b4be6"
      },
      "execution_count": null,
      "outputs": [
        {
          "output_type": "execute_result",
          "data": {
            "text/plain": [
              "[99, 22, 13, 33, 27, 3, 82, 34, 24, 21]"
            ]
          },
          "metadata": {},
          "execution_count": 35
        }
      ]
    },
    {
      "cell_type": "code",
      "source": [
        "# Shuffle a list\n",
        "random.shuffle(mylist)\n",
        "mylist"
      ],
      "metadata": {
        "colab": {
          "base_uri": "https://localhost:8080/"
        },
        "id": "Uw9ZzMSqOUkz",
        "outputId": "145bbfb5-3944-4beb-a079-690df932bd64"
      },
      "execution_count": null,
      "outputs": [
        {
          "output_type": "execute_result",
          "data": {
            "text/plain": [
              "[8, 1, 7, 2, 6, 3, 4, 5, 9, 0]"
            ]
          },
          "metadata": {},
          "execution_count": 40
        }
      ]
    },
    {
      "cell_type": "code",
      "source": [
        "# Random Distributions\n",
        "random.uniform(a=0,b=100) # Rrandom picks a value between a and b, each value has equal chance of being picked.\n",
        "random.gauss(mu=0,sigma=1)# Normal/Gaussian Distribution"
      ],
      "metadata": {
        "colab": {
          "base_uri": "https://localhost:8080/"
        },
        "id": "i7YxWiIu64D2",
        "outputId": "3a49f5f7-e313-4895-c0c1-d271c049377b"
      },
      "execution_count": null,
      "outputs": [
        {
          "output_type": "execute_result",
          "data": {
            "text/plain": [
              "0.22667713790741648"
            ]
          },
          "metadata": {},
          "execution_count": 49
        }
      ]
    },
    {
      "cell_type": "markdown",
      "source": [
        "## Build your own module"
      ],
      "metadata": {
        "id": "G-7SPCDa5Vr0"
      }
    },
    {
      "cell_type": "markdown",
      "source": [
        "Docs!\n",
        "* https://docs.python.org/3/tutorial/modules.html#packages\n",
        "* https://python4astronomers.github.io/installation/packages.html\n",
        "* Python module is simply Python file with the .py extension, which define a set of functions\n",
        "* Modules are imported using the import command. https://docs.python.org/3/py-modindex.html"
      ],
      "metadata": {
        "id": "7HmzDo-c0lI-"
      }
    },
    {
      "cell_type": "code",
      "source": [
        "# Need upload .py files first. Click file icon wih up arrow inside to select .py file and upload\n",
        "import mymodule\n",
        "import math_operations"
      ],
      "metadata": {
        "id": "tyhuBzgq-I57"
      },
      "execution_count": null,
      "outputs": []
    },
    {
      "cell_type": "code",
      "source": [
        "math_operations.add(5, 3)"
      ],
      "metadata": {
        "colab": {
          "base_uri": "https://localhost:8080/"
        },
        "id": "10EiZGcQsW2d",
        "outputId": "b4919a07-dd05-466d-ded6-b248706cc5c2"
      },
      "execution_count": null,
      "outputs": [
        {
          "output_type": "execute_result",
          "data": {
            "text/plain": [
              "8"
            ]
          },
          "metadata": {},
          "execution_count": 28
        }
      ]
    },
    {
      "cell_type": "code",
      "source": [
        "mymodule.greet('gz')"
      ],
      "metadata": {
        "colab": {
          "base_uri": "https://localhost:8080/",
          "height": 35
        },
        "id": "41lvMfL-sWys",
        "outputId": "d4910d6a-1e7a-47ba-bbf2-80e603af972f"
      },
      "execution_count": null,
      "outputs": [
        {
          "output_type": "execute_result",
          "data": {
            "text/plain": [
              "'Hello, gz!'"
            ],
            "application/vnd.google.colaboratory.intrinsic+json": {
              "type": "string"
            }
          },
          "metadata": {},
          "execution_count": 29
        }
      ]
    },
    {
      "cell_type": "code",
      "source": [
        "x = mymodule.Person('gz')\n",
        "x.name"
      ],
      "metadata": {
        "colab": {
          "base_uri": "https://localhost:8080/",
          "height": 35
        },
        "id": "4RGsHn-psWuN",
        "outputId": "2e1446fa-8e85-4b19-8ffa-74e1e5f542ca"
      },
      "execution_count": null,
      "outputs": [
        {
          "output_type": "execute_result",
          "data": {
            "text/plain": [
              "'gz'"
            ],
            "application/vnd.google.colaboratory.intrinsic+json": {
              "type": "string"
            }
          },
          "metadata": {},
          "execution_count": 30
        }
      ]
    },
    {
      "cell_type": "code",
      "source": [
        "x.introduce()"
      ],
      "metadata": {
        "colab": {
          "base_uri": "https://localhost:8080/",
          "height": 35
        },
        "id": "erqrS9-psdTk",
        "outputId": "81e5a29b-4411-4ca8-edda-e4e79492d4eb"
      },
      "execution_count": null,
      "outputs": [
        {
          "output_type": "execute_result",
          "data": {
            "text/plain": [
              "'My name is gz.'"
            ],
            "application/vnd.google.colaboratory.intrinsic+json": {
              "type": "string"
            }
          },
          "metadata": {},
          "execution_count": 31
        }
      ]
    },
    {
      "cell_type": "markdown",
      "source": [
        "# Regular expression"
      ],
      "metadata": {
        "id": "STKf37TtHdSN"
      }
    },
    {
      "cell_type": "markdown",
      "source": [
        "Regular Expression or regex allows a user to search for strings by rules."
      ],
      "metadata": {
        "id": "nAODPbNFTp_G"
      }
    },
    {
      "cell_type": "code",
      "source": [
        "# Basic pattern\n",
        "text = \"This is a Python Bootcamp training course. It is Python\"\n",
        "'Python' in text # find out whether the string \"Python\" is inside the text string."
      ],
      "metadata": {
        "colab": {
          "base_uri": "https://localhost:8080/"
        },
        "id": "FEIzTGisThJ3",
        "outputId": "3c658ec1-c097-47e5-cebc-de1bc07f8004"
      },
      "execution_count": null,
      "outputs": [
        {
          "output_type": "execute_result",
          "data": {
            "text/plain": [
              "True"
            ]
          },
          "metadata": {},
          "execution_count": 4
        }
      ]
    },
    {
      "cell_type": "code",
      "source": [
        "# regex\n",
        "import re\n",
        "pattern = 'Python'\n",
        "#  re.search takes the pattern, scan the text, and returns the first matched object. If no pattern is found, a None is returned\n",
        "result = re.search(pattern,text)\n",
        "result.span\n",
        "result.start()\n",
        "result.end()"
      ],
      "metadata": {
        "colab": {
          "base_uri": "https://localhost:8080/"
        },
        "id": "2fShYm8_ThEH",
        "outputId": "27bc0268-49fb-4589-a151-ae69b12692ba"
      },
      "execution_count": null,
      "outputs": [
        {
          "output_type": "execute_result",
          "data": {
            "text/plain": [
              "16"
            ]
          },
          "metadata": {},
          "execution_count": 5
        }
      ]
    },
    {
      "cell_type": "code",
      "source": [
        "#  re.findall()\n",
        "result = re.findall(pattern,text)\n",
        "result\n",
        "len(result)\n",
        "for result in re.finditer(\"Python\",text):\n",
        "    print(result.span())"
      ],
      "metadata": {
        "colab": {
          "base_uri": "https://localhost:8080/"
        },
        "id": "neBdvYXBTg_i",
        "outputId": "b5e2e1d2-dfd5-4b44-8ff6-5cf2ccadf3dd"
      },
      "execution_count": null,
      "outputs": [
        {
          "output_type": "stream",
          "name": "stdout",
          "text": [
            "(10, 16)\n",
            "(49, 55)\n"
          ]
        }
      ]
    },
    {
      "cell_type": "markdown",
      "source": [
        "## Pattern"
      ],
      "metadata": {
        "id": "EsZANbsrgKt5"
      }
    },
    {
      "cell_type": "markdown",
      "source": [
        "## Pattern identifiers\n",
        "\n",
        "Regex uses distinct codes to represent characters in digits or string and build up a pattern string.\n",
        "\n",
        "    r'mypattern'\n",
        "    \n",
        "r in front of the string allows python to understand that the \\ in the pattern string are not meant to be escape slashes.\n",
        "\n",
        "Popular identifiers: https://docs.python.org/3/howto/regex.html\n",
        "\n",
        "<table ><tr><th>Character</th><th>Description</th><th>Example Pattern Code</th><th >Exammple Match</th></tr>\n",
        "<tr ><td><span >\\d</span></td><td>A digit</td><td>file_\\d\\d</td><td>file_25</td></tr>\n",
        "<tr ><td><span >\\w</span></td><td>Alphanumeric</td><td>\\w-\\w\\w\\w</td><td>A-b_1</td></tr>\n",
        "<tr ><td><span >\\s</span></td><td>White space</td><td>a\\sb\\sc</td><td>a b c</td></tr>\n",
        "<tr ><td><span >\\D</span></td><td>A non digit</td><td>\\D\\D\\D</td><td>ABC</td></tr>\n",
        "<tr ><td><span >\\W</span></td><td>Non-alphanumeric</td><td>\\W\\W\\W\\W\\W</td><td>*-+=)</td></tr>\n",
        "<tr ><td><span >\\S</span></td><td>Non-whitespace</td><td>\\S\\S\\S\\S</td><td>Yoyo</td></tr>\n",
        "<tr ><td><span >+</span></td><td>Occurs one or more times</td><td>\tVersion \\w-\\w+</td><td>Version A-b1_1</td></tr>\n",
        "<tr ><td><span >{3}</span></td><td>Occurs exactly 3 times</td><td>\\D{3}</td><td>abc</td></tr>\n",
        "<tr ><td><span >{2,4}</span></td><td>Occurs 2 to 4 times</td><td>\\d{2,4}</td><td>123</td></tr>\n",
        "<tr ><td><span >{3,}</span></td><td>Occurs 3 or more</td><td>\\w{3,}</td><td>anycharacters</td></tr>\n",
        "<tr ><td><span >\\*</span></td><td>Occurs zero or more times</td><td>A\\*B\\*C*</td><td>AAACC</td></tr>\n",
        "<tr ><td><span >?</span></td><td>Once or none</td><td>plurals?</td><td>plural</td></tr>\n",
        "</table>"
      ],
      "metadata": {
        "id": "19MI2aowhHYx"
      }
    },
    {
      "cell_type": "code",
      "source": [
        "# Find digital numbers\n",
        "text = \"My phone number is 123-455-6789\"\n",
        "phone = re.search(r'\\d\\d\\d-\\d\\d\\d-\\d\\d\\d\\d',text)\n",
        "phone = re.search(r'\\d{3}-\\d{3}-\\d{4}',text)\n",
        "phone = re.search(r'\\d+-\\d+-\\d+',text)\n",
        "phone.group()"
      ],
      "metadata": {
        "colab": {
          "base_uri": "https://localhost:8080/",
          "height": 35
        },
        "id": "pM39wXwwTg8I",
        "outputId": "3932ffd4-8e81-4fa6-e79e-0df17a740622"
      },
      "execution_count": null,
      "outputs": [
        {
          "output_type": "execute_result",
          "data": {
            "text/plain": [
              "'123-455-6789'"
            ],
            "application/vnd.google.colaboratory.intrinsic+json": {
              "type": "string"
            }
          },
          "metadata": {},
          "execution_count": 17
        }
      ]
    },
    {
      "cell_type": "code",
      "source": [
        "# Group\n",
        "phone_pattern = re.compile(r'(\\d{3})-(\\d{3})-(\\d{4})')\n",
        "results = re.search(phone_pattern,text)\n",
        "results.group() # The entire result\n",
        "results.group(1) # Call by group position\n",
        "results.group(2) # Call by group position\n",
        "results.group(3) # Call by group position"
      ],
      "metadata": {
        "colab": {
          "base_uri": "https://localhost:8080/",
          "height": 35
        },
        "id": "WsLv_OACTg4H",
        "outputId": "a7003f6b-0c83-4b2e-f5fb-5b854fec717c"
      },
      "execution_count": null,
      "outputs": [
        {
          "output_type": "execute_result",
          "data": {
            "text/plain": [
              "'6789'"
            ],
            "application/vnd.google.colaboratory.intrinsic+json": {
              "type": "string"
            }
          },
          "metadata": {},
          "execution_count": 19
        }
      ]
    },
    {
      "cell_type": "code",
      "source": [
        "# or operator |\n",
        "re.search(r\"man|woman\",\"This man was here.\")"
      ],
      "metadata": {
        "id": "7IqUTaL_Tg0n"
      },
      "execution_count": null,
      "outputs": []
    },
    {
      "cell_type": "code",
      "source": [
        "# Wildcard character, \".\", match any character placed there\n",
        "re.search(r\".an\",\"This man was here and the woman is tall\")\n",
        "re.findall(r\".an\",\"This man was here and the woman is tall.\")# . = one character\n",
        "re.findall(r\"\\w+an\",\"This man was here and the woman is tall.\")"
      ],
      "metadata": {
        "colab": {
          "base_uri": "https://localhost:8080/"
        },
        "id": "G7YdTvBgTgwv",
        "outputId": "9964618d-76e3-42da-e84e-2c90cef13922"
      },
      "execution_count": null,
      "outputs": [
        {
          "output_type": "execute_result",
          "data": {
            "text/plain": [
              "['man', 'woman']"
            ]
          },
          "metadata": {},
          "execution_count": 23
        }
      ]
    },
    {
      "cell_type": "code",
      "source": [
        "# Starts vs. Ends: use the ^ to signal starts with, and the $ to signal ends.\n",
        "re.findall(r\"\\d$\",\"This ends with a number 2\")\n",
        "re.findall(r\"^\\d\",\"1 is the loneliest number.\")"
      ],
      "metadata": {
        "colab": {
          "base_uri": "https://localhost:8080/"
        },
        "id": "W5uCpAgLTgs_",
        "outputId": "0d42c822-3614-436e-cf03-f4b2bba44095"
      },
      "execution_count": null,
      "outputs": [
        {
          "output_type": "execute_result",
          "data": {
            "text/plain": [
              "['1']"
            ]
          },
          "metadata": {},
          "execution_count": 24
        }
      ]
    },
    {
      "cell_type": "code",
      "source": [
        "# To exclude characters, ^ symbol in conjunction with a set of brackets []. Anything inside the brackets is excluded\n",
        "phrase = \"there are 3 numbers 34 inside 5 this sentence.\"\n",
        "re.findall(r\"[^\\d]\",phrase)\n",
        "re.findall(r'[^\\d]+',phrase)\n",
        "' '.join(re.findall('[^!.? ]+',phrase))"
      ],
      "metadata": {
        "colab": {
          "base_uri": "https://localhost:8080/",
          "height": 35
        },
        "id": "c0b6CQgfTgg_",
        "outputId": "9dc8a9de-126a-4626-f3e1-3279f78b38a3"
      },
      "execution_count": null,
      "outputs": [
        {
          "output_type": "execute_result",
          "data": {
            "text/plain": [
              "'there are 3 numbers 34 inside 5 this sentence'"
            ],
            "application/vnd.google.colaboratory.intrinsic+json": {
              "type": "string"
            }
          },
          "metadata": {},
          "execution_count": 27
        }
      ]
    },
    {
      "cell_type": "code",
      "source": [
        "# Brackets for grouping\n",
        "text = 'Only find the hypen-words in this sentence. But you do not know how long-ish they are'\n",
        "re.findall(r'[\\w]+-[\\w]+',text)\n"
      ],
      "metadata": {
        "colab": {
          "base_uri": "https://localhost:8080/"
        },
        "id": "0AQDx9tlHpO1",
        "outputId": "137feab2-5b65-4f3f-88a1-7ce8fe9563b7"
      },
      "execution_count": null,
      "outputs": [
        {
          "output_type": "execute_result",
          "data": {
            "text/plain": [
              "['hypen-words', 'long-ish']"
            ]
          },
          "metadata": {},
          "execution_count": 28
        }
      ]
    },
    {
      "cell_type": "markdown",
      "source": [
        "# Errors and exception"
      ],
      "metadata": {
        "id": "mcLoMAjy6ewM"
      }
    },
    {
      "cell_type": "code",
      "source": [
        "# SyntaxError, with the description that it was an unterminated string literal\n",
        "# Error detected during execution is called exception and can be fatal\n",
        "# Built-in Exceptions¶: https://docs.python.org/3/library/exceptions.html\n",
        "print('Hello world)"
      ],
      "metadata": {
        "id": "p3aOCt2nMxSZ",
        "colab": {
          "base_uri": "https://localhost:8080/",
          "height": 106
        },
        "outputId": "56fe0fd3-5494-40fe-a906-4842efc6e9a9"
      },
      "execution_count": null,
      "outputs": [
        {
          "output_type": "error",
          "ename": "SyntaxError",
          "evalue": "unterminated string literal (detected at line 1) (<ipython-input-1-6d22d03c5544>, line 1)",
          "traceback": [
            "\u001b[0;36m  File \u001b[0;32m\"<ipython-input-1-6d22d03c5544>\"\u001b[0;36m, line \u001b[0;32m1\u001b[0m\n\u001b[0;31m    print('Hello world)\u001b[0m\n\u001b[0m          ^\u001b[0m\n\u001b[0;31mSyntaxError\u001b[0m\u001b[0;31m:\u001b[0m unterminated string literal (detected at line 1)\n"
          ]
        }
      ]
    },
    {
      "cell_type": "markdown",
      "source": [
        "## try and except"
      ],
      "metadata": {
        "id": "9_7M3LJiCgw-"
      }
    },
    {
      "cell_type": "code",
      "source": [
        "# In Python, try and except are used for handling exceptions (errors that occur during program execution)\n",
        "# This helps prevent crashes and allows you to handle errors gracefully. The basic syntax looks like this (examples from chatgpt):\n",
        "try:\n",
        "    x = 10 / 0  # This will cause a ZeroDivisionError\n",
        "except ZeroDivisionError:\n",
        "    print(\"You can't divide by zero!\")"
      ],
      "metadata": {
        "id": "l8G8pvuDHVy0"
      },
      "execution_count": null,
      "outputs": []
    },
    {
      "cell_type": "code",
      "source": [
        "try:\n",
        "    num = int(\"abc\")  # This will cause a ValueError\n",
        "except ValueError:\n",
        "    print(\"Invalid input! Please enter a number.\")"
      ],
      "metadata": {
        "colab": {
          "base_uri": "https://localhost:8080/"
        },
        "id": "oRYfNjN1HVu1",
        "outputId": "412f42eb-9b85-471f-cebd-387f3b06d4f4"
      },
      "execution_count": null,
      "outputs": [
        {
          "output_type": "stream",
          "name": "stdout",
          "text": [
            "Invalid input! Please enter a number.\n"
          ]
        }
      ]
    },
    {
      "cell_type": "code",
      "source": [
        "try:\n",
        "    file = open(\"non_existent_file.txt\", \"r\")  # FileNotFoundError\n",
        "except Exception as e:\n",
        "    print(f\"An error occurred: {e}\")"
      ],
      "metadata": {
        "colab": {
          "base_uri": "https://localhost:8080/"
        },
        "id": "rgzdb0MJHVq8",
        "outputId": "4ce78ca2-125f-4147-af2b-32131c294a46"
      },
      "execution_count": null,
      "outputs": [
        {
          "output_type": "stream",
          "name": "stdout",
          "text": [
            "An error occurred: [Errno 2] No such file or directory: 'non_existent_file.txt'\n"
          ]
        }
      ]
    },
    {
      "cell_type": "code",
      "source": [
        "# The finally block runs no matter what, even if an exception occurs or not\n",
        "try:\n",
        "    print(10/2)\n",
        "except ZeroDivisionError:\n",
        "    print(\"Error: Division by zero.\")\n",
        "finally:\n",
        "    print(\"This will always execute.\")"
      ],
      "metadata": {
        "colab": {
          "base_uri": "https://localhost:8080/"
        },
        "id": "pIpStuZeHVnc",
        "outputId": "9cf1f76b-0f33-412f-9a2c-e0a3acfefeb4"
      },
      "execution_count": null,
      "outputs": [
        {
          "output_type": "stream",
          "name": "stdout",
          "text": [
            "5.0\n",
            "This will always execute.\n"
          ]
        }
      ]
    },
    {
      "cell_type": "code",
      "source": [
        "# The else block executes if no exception occurs.\n",
        "try:\n",
        "    #num = int(\"abc\")\n",
        "    print(\"No errors here!\")\n",
        "except:\n",
        "    print(\"An error occurred.\")\n",
        "else:\n",
        "    print(\"Try block executed successfully!\")"
      ],
      "metadata": {
        "colab": {
          "base_uri": "https://localhost:8080/"
        },
        "id": "BMOZPBmIHVi8",
        "outputId": "4f34ea17-9d5e-4f5e-c061-720fb2881ba1"
      },
      "execution_count": null,
      "outputs": [
        {
          "output_type": "stream",
          "name": "stdout",
          "text": [
            "No errors here!\n",
            "Try block executed successfully!\n"
          ]
        }
      ]
    },
    {
      "cell_type": "code",
      "source": [],
      "metadata": {
        "id": "56OSJyg8TH1K"
      },
      "execution_count": null,
      "outputs": []
    },
    {
      "cell_type": "code",
      "source": [
        "def askint():\n",
        "    try:\n",
        "        val = int(input(\"Please put an integer here: \"))\n",
        "        print(\"No errors here!\")\n",
        "    except:# ValueError:\n",
        "        print(\"Looks like you did not enter an integer!\")\n",
        "        val = int(input(\"Try again - Please enter an integer: \"))\n",
        "    else:\n",
        "        print(\"Try block executed successfully!\")\n",
        "    finally:\n",
        "        print(\"Finally, I executed!\")\n",
        "    print(val)\n",
        "\n",
        "askint()"
      ],
      "metadata": {
        "colab": {
          "base_uri": "https://localhost:8080/"
        },
        "id": "m4HWFgQ7HVeU",
        "outputId": "87c5f0ab-d06f-48fe-9e5a-2fd2f79cf585"
      },
      "execution_count": null,
      "outputs": [
        {
          "output_type": "stream",
          "name": "stdout",
          "text": [
            "Please put an integer here: q\n",
            "Looks like you did not enter an integer!\n",
            "Try again - Please enter an integer: 4\n",
            "Finally, I executed!\n",
            "4\n"
          ]
        }
      ]
    },
    {
      "cell_type": "code",
      "source": [
        "def askint():\n",
        "    while True:\n",
        "      try:\n",
        "          val = int(input(\"Please put an integer here: \"))\n",
        "          print(\"No errors here!\")\n",
        "      except:# ValueError:\n",
        "          print(\"Looks like you did not enter an integer!\")\n",
        "         #val = int(input(\"Try again - Please enter an integer: \"))\n",
        "          continue\n",
        "      else:\n",
        "          print(\"Try block executed successfully!\")\n",
        "          break\n",
        "      finally:\n",
        "          print(\"Finally, I executed!\")\n",
        "      print(val)\n",
        "\n",
        "askint()"
      ],
      "metadata": {
        "colab": {
          "base_uri": "https://localhost:8080/"
        },
        "id": "1eyRq13yUvb1",
        "outputId": "ecec9728-b898-4036-b4f9-1260e27029e8"
      },
      "execution_count": null,
      "outputs": [
        {
          "output_type": "stream",
          "name": "stdout",
          "text": [
            "Please put an integer here: a\n",
            "Looks like you did not enter an integer!\n",
            "Finally, I executed!\n",
            "Please put an integer here: 3\n",
            "No errors here!\n",
            "Try block executed successfully!\n",
            "Finally, I executed!\n"
          ]
        }
      ]
    },
    {
      "cell_type": "markdown",
      "source": [
        "# Python decorator"
      ],
      "metadata": {
        "id": "iaPO8is9HRKE"
      }
    },
    {
      "cell_type": "code",
      "source": [
        "# Content from chatgpt\n",
        "# A Python decorator is a design pattern that allows you to modify or extend the behavior of functions or methods without changing their actual code.\n",
        "# It's a function that takes another function (or method) as input and returns a new function with some added functionality\n",
        "# A decorator is a function that wraps another function, modifying its behavior before or after it is called\n",
        "def my_decorator(func):\n",
        "    def wrapper():\n",
        "        print(\"Before function execution\")\n",
        "        func()\n",
        "        print(\"After function execution\")\n",
        "    return wrapper\n",
        "\n",
        "@my_decorator  # The decorator is applied using the @my_decorator syntax, which is equivalent to say_hello = my_decorator(say_hello).\n",
        "def say_hello():  # Original function\n",
        "    print(\"Hello!\")\n",
        "\n",
        "say_hello()"
      ],
      "metadata": {
        "id": "e3MxC1N9UvYl",
        "colab": {
          "base_uri": "https://localhost:8080/"
        },
        "outputId": "201330c4-b141-427a-cd8e-a78f892ceee0"
      },
      "execution_count": null,
      "outputs": [
        {
          "output_type": "stream",
          "name": "stdout",
          "text": [
            "Before function execution\n",
            "Hello!\n",
            "After function execution\n"
          ]
        }
      ]
    },
    {
      "cell_type": "markdown",
      "source": [
        "# Python iterators and generators"
      ],
      "metadata": {
        "id": "yDhX_WtLJnoS"
      }
    },
    {
      "cell_type": "markdown",
      "source": [
        "An iterator is an object that implements two methods (from chatgpt):\n",
        "\n",
        "* \\_\\_iter\\_\\_(): This method returns the iterator object itself. It allows the object to be used in a for loop or any context where an iterable is required.\n",
        "\n",
        "* \\_\\_next\\_\\_(): This method returns the next item from the sequence. If there are no more items, it raises the StopIteration exception to signal the end of the iteration.  \n",
        "\n",
        "A generator is a special kind of iterator that is defined using a function with the yield keyword. Generators are more memory efficient than creating a list because they generate values on the fly and do not store the entire sequence in memory.\n",
        "\n",
        "**Key Differences Between Iterators and Generators:**\n",
        "* Memory Efficiency: Generators are more memory efficient because they generate values one at a time using yield and do not store the entire sequence in memory like iterators can.\n",
        "\n",
        "* Syntax: Generators are defined using functions with the yield keyword, whereas iterators are typically created by defining a class with \\_\\_iter\\_\\_() and \\_\\_next\\_\\_() methods.\n",
        "\n",
        "* State Preservation: Generators automatically preserve their state between calls to next(), while iterators may need to maintain state manually in a class.\n",
        "\n",
        "**When to Use:**\n",
        "* Iterators are useful when you need to define custom iteration logic that can be reused and you want to encapsulate the iteration state in a class.\n",
        "\n",
        "* Generators are ideal when you want a quick and memory-efficient way to generate data on the fly, especially for large datasets or streams where it is impractical to store all values in memory."
      ],
      "metadata": {
        "id": "fhmOMmnSKizv"
      }
    },
    {
      "cell_type": "code",
      "source": [
        "# from chatgpt\n",
        "class MyIterator:\n",
        "    def __init__(self, start, end):\n",
        "        self.current = start\n",
        "        self.end = end\n",
        "\n",
        "    def __iter__(self):\n",
        "        return self  # The object itself is the iterator\n",
        "\n",
        "    def __next__(self): # handles the logic for returning the next number and raises StopIteration when the sequence is exhausted\n",
        "        if self.current >= self.end:\n",
        "            raise StopIteration  # End of iteration\n",
        "        self.current += 1\n",
        "        return self.current - 1\n",
        "\n",
        "# Using the iterator\n",
        "my_iter = MyIterator(0, 5)   # an iterator that generates numbers from start to end - 1.\n",
        "for number in my_iter:\n",
        "    print(number)"
      ],
      "metadata": {
        "id": "cjG67hgcUvVV",
        "colab": {
          "base_uri": "https://localhost:8080/"
        },
        "outputId": "1cef0b18-42c8-4310-82e5-f7c0ae98303e"
      },
      "execution_count": null,
      "outputs": [
        {
          "output_type": "stream",
          "name": "stdout",
          "text": [
            "0\n",
            "1\n",
            "2\n",
            "3\n",
            "4\n"
          ]
        }
      ]
    },
    {
      "cell_type": "code",
      "source": [
        "def my_generator(start, end): # a generator that yields values from start to end - 1\n",
        "    current = start\n",
        "    while current < end:\n",
        "        yield current  # This will pause the function and return a value\n",
        "        current += 1\n",
        "\n",
        "# Using the generator\n",
        "for number in my_generator(0, 5):\n",
        "    print(number)"
      ],
      "metadata": {
        "id": "R8bF-GGZUvQ9",
        "colab": {
          "base_uri": "https://localhost:8080/"
        },
        "outputId": "9bebed00-5625-4cb8-a0de-6cc1ddd9a890"
      },
      "execution_count": null,
      "outputs": [
        {
          "output_type": "stream",
          "name": "stdout",
          "text": [
            "0\n",
            "1\n",
            "2\n",
            "3\n",
            "4\n"
          ]
        }
      ]
    },
    {
      "cell_type": "markdown",
      "source": [
        "# Python timing"
      ],
      "metadata": {
        "id": "zMGqX8L3iuNL"
      }
    },
    {
      "cell_type": "code",
      "source": [
        "# https://docs.python.org/3/library/timeit.html\n",
        "# Python has a built-in timing module to monitor how long a code is taking to run\n",
        "import timeit # sample from chatgpt\n",
        "# Define the code snippet to be timed\n",
        "code_to_test = \"\"\"\n",
        "sum(range(1000))\n",
        "\"\"\"\n",
        "\n",
        "# Measure execution time\n",
        "execution_time = timeit.timeit(code_to_test, number=10000)\n",
        "print(f\"Execution time: {execution_time:.5f} seconds\")"
      ],
      "metadata": {
        "id": "fBkUsfrHUvM9",
        "colab": {
          "base_uri": "https://localhost:8080/"
        },
        "outputId": "8b4c85b4-78a9-4738-c700-e45b7676e1f4"
      },
      "execution_count": null,
      "outputs": [
        {
          "output_type": "stream",
          "name": "stdout",
          "text": [
            "Execution time: 0.64298 seconds\n"
          ]
        }
      ]
    },
    {
      "cell_type": "code",
      "source": [
        "%timeit sum(range(1000)) # If you're using Jupyter Notebook, you can use the %timeit magic command:"
      ],
      "metadata": {
        "colab": {
          "base_uri": "https://localhost:8080/"
        },
        "id": "BWn3LwMxlkGM",
        "outputId": "0f98a5de-daf3-4fad-ebbe-494a6a7c031b"
      },
      "execution_count": null,
      "outputs": [
        {
          "output_type": "stream",
          "name": "stdout",
          "text": [
            "18.3 µs ± 2.65 µs per loop (mean ± std. dev. of 7 runs, 100000 loops each)\n"
          ]
        }
      ]
    },
    {
      "cell_type": "code",
      "source": [
        "import timeit\n",
        "\n",
        "def test_function():\n",
        "    return sum(range(1000))\n",
        "\n",
        "# Measure execution time\n",
        "execution_time = timeit.Timer(test_function).timeit(number=10000)\n",
        "print(f\"Execution time: {execution_time:.5f} seconds\")"
      ],
      "metadata": {
        "colab": {
          "base_uri": "https://localhost:8080/"
        },
        "id": "eF3u2nttls6Y",
        "outputId": "bb696ed2-92d7-4a19-94d1-87c09f65b28e"
      },
      "execution_count": null,
      "outputs": [
        {
          "output_type": "execute_result",
          "data": {
            "text/plain": [
              "499500"
            ]
          },
          "metadata": {},
          "execution_count": 6
        }
      ]
    }
  ]
}